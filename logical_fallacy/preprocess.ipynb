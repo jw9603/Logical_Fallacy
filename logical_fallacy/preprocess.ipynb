{
 "cells": [
  {
   "cell_type": "code",
   "execution_count": 5,
   "metadata": {},
   "outputs": [
    {
     "name": "stdout",
     "output_type": "stream",
     "text": [
      "새로운 CSV 파일이 생성되었습니다: ./data/faulty_generalization_split.csv\n"
     ]
    }
   ],
   "source": [
    "import re\n",
    "import pandas as pd\n",
    "\n",
    "a = pd.read_csv('./data/total_general_question_faulty_generalization_updated.csv')\n",
    "\n",
    "output_file = './data/faulty_generalization_split.csv'\n",
    "def split_sentences(text):\n",
    "    # 주어진 종료 기호들과 쉼표를 사용하여 문장을 분할하는 정규 표현식 패턴\n",
    "    pattern = r'(?<=[.?!…\\'\";:])\\s+(?=[A-Z])|(?<=,\\s)'\n",
    "    # 정규 표현식을 사용하여 문장을 분할\n",
    "    sentences = re.split(pattern, text)\n",
    "    # 분할된 문장들을 반환\n",
    "    return sentences\n",
    "\n",
    "# \"text\" 컬럼의 값에 대해 정제를 수행합니다.\n",
    "a['split_text'] = a['text'].apply(split_sentences)\n",
    "\n",
    "# 결과를 새로운 CSV 파일에 저장합니다.\n",
    "a.to_csv(output_file, index=False)\n",
    "\n",
    "# 결과를 확인합니다.\n",
    "print(\"새로운 CSV 파일이 생성되었습니다:\", output_file)"
   ]
  },
  {
   "cell_type": "code",
   "execution_count": 6,
   "metadata": {},
   "outputs": [
    {
     "name": "stdout",
     "output_type": "stream",
     "text": [
      "새로운 CSV 파일이 생성되었습니다: ./data/false_causality_split.csv\n"
     ]
    }
   ],
   "source": [
    "import re\n",
    "import pandas as pd\n",
    "\n",
    "a = pd.read_csv('./data/total_general_question_false_causality_updated.csv')\n",
    "\n",
    "output_file = './data/false_causality_split.csv'\n",
    "def split_sentences(text):\n",
    "    # 주어진 종료 기호들과 쉼표를 사용하여 문장을 분할하는 정규 표현식 패턴\n",
    "    pattern = r'(?<=[.?!…\\'\";:])\\s+(?=[A-Z])|(?<=,\\s)'\n",
    "    # 정규 표현식을 사용하여 문장을 분할\n",
    "    sentences = re.split(pattern, text)\n",
    "    # 분할된 문장들을 반환\n",
    "    return sentences\n",
    "\n",
    "# \"text\" 컬럼의 값에 대해 정제를 수행합니다.\n",
    "a['split_text'] = a['text'].apply(split_sentences)\n",
    "\n",
    "# 결과를 새로운 CSV 파일에 저장합니다.\n",
    "a.to_csv(output_file, index=False)\n",
    "\n",
    "# 결과를 확인합니다.\n",
    "print(\"새로운 CSV 파일이 생성되었습니다:\", output_file)"
   ]
  },
  {
   "cell_type": "code",
   "execution_count": 7,
   "metadata": {},
   "outputs": [
    {
     "name": "stdout",
     "output_type": "stream",
     "text": [
      "새로운 CSV 파일이 생성되었습니다: ./data/irrelevant_authority_split.csv\n"
     ]
    }
   ],
   "source": [
    "import re\n",
    "import pandas as pd\n",
    "\n",
    "a = pd.read_csv('./data/total_general_question_irrelevant_authority_updated.csv')\n",
    "\n",
    "output_file = './data/irrelevant_authority_split.csv'\n",
    "def split_sentences(text):\n",
    "    # 주어진 종료 기호들과 쉼표를 사용하여 문장을 분할하는 정규 표현식 패턴\n",
    "    pattern = r'(?<=[.?!…\\'\";:])\\s+(?=[A-Z])|(?<=,\\s)'\n",
    "    # 정규 표현식을 사용하여 문장을 분할\n",
    "    sentences = re.split(pattern, text)\n",
    "    # 분할된 문장들을 반환\n",
    "    return sentences\n",
    "\n",
    "# \"text\" 컬럼의 값에 대해 정제를 수행합니다.\n",
    "a['split_text'] = a['text'].apply(split_sentences)\n",
    "\n",
    "# 결과를 새로운 CSV 파일에 저장합니다.\n",
    "a.to_csv(output_file, index=False)\n",
    "\n",
    "# 결과를 확인합니다.\n",
    "print(\"새로운 CSV 파일이 생성되었습니다:\", output_file)"
   ]
  },
  {
   "attachments": {},
   "cell_type": "markdown",
   "metadata": {},
   "source": [
    "### 3월 22일\n",
    "\n",
    "- Post Processing과정을 위해 csv파일을 json파일로 변환하자."
   ]
  },
  {
   "cell_type": "code",
   "execution_count": 4,
   "metadata": {},
   "outputs": [
    {
     "name": "stdout",
     "output_type": "stream",
     "text": [
      "<class 'pandas.core.frame.DataFrame'>\n",
      "RangeIndex: 613 entries, 0 to 612\n",
      "Data columns (total 5 columns):\n",
      " #   Column           Non-Null Count  Dtype \n",
      "---  ------           --------------  ----- \n",
      " 0   text             613 non-null    object\n",
      " 1   translated_text  613 non-null    object\n",
      " 2   label            613 non-null    object\n",
      " 3   query            613 non-null    object\n",
      " 4   split_text       613 non-null    object\n",
      "dtypes: object(5)\n",
      "memory usage: 24.1+ KB\n"
     ]
    }
   ],
   "source": [
    "import pandas as pd\n",
    "\n",
    "a = pd.read_csv('./data/faulty_generalization_split.csv')\n",
    "\n",
    "a.info()\n",
    "\n",
    "import json\n",
    "\n",
    "# 데이터프레임을 리스트 형태의 레코드로 변환\n",
    "record_list = a[['text', 'translated_text','split_text','query','label']].values.tolist()\n",
    "\n",
    "# 원하는 형태의 딕셔너리 생성\n",
    "data_dict = {\"test\": record_list}\n",
    "\n",
    "# 딕셔너리를 JSON 파일로 저장\n",
    "with open('./data/faulty_generalization_split.json', 'w') as json_file:\n",
    "    json.dump(data_dict, json_file)"
   ]
  },
  {
   "cell_type": "code",
   "execution_count": 4,
   "metadata": {},
   "outputs": [
    {
     "name": "stdout",
     "output_type": "stream",
     "text": [
      "<class 'pandas.core.frame.DataFrame'>\n",
      "RangeIndex: 295 entries, 0 to 294\n",
      "Data columns (total 5 columns):\n",
      " #   Column           Non-Null Count  Dtype \n",
      "---  ------           --------------  ----- \n",
      " 0   text             295 non-null    object\n",
      " 1   translated_text  295 non-null    object\n",
      " 2   label            295 non-null    object\n",
      " 3   query            295 non-null    object\n",
      " 4   split_text       295 non-null    object\n",
      "dtypes: object(5)\n",
      "memory usage: 11.6+ KB\n"
     ]
    }
   ],
   "source": [
    "import pandas as pd\n",
    "import json\n",
    "b = pd.read_csv('./data/false_causality_split.csv')\n",
    "\n",
    "b.info()\n",
    "\n",
    "# 데이터프레임을 리스트 형태의 레코드로 변환\n",
    "record_list = b[['text', 'translated_text','split_text','query','label']].values.tolist()\n",
    "\n",
    "# 원하는 형태의 딕셔너리 생성\n",
    "data_dict = {\"test\": record_list}\n",
    "\n",
    "# 딕셔너리를 JSON 파일로 저장\n",
    "with open('./data/false_causality_split.json', 'w') as json_file:\n",
    "    json.dump(data_dict, json_file)"
   ]
  },
  {
   "cell_type": "code",
   "execution_count": 5,
   "metadata": {},
   "outputs": [
    {
     "name": "stdout",
     "output_type": "stream",
     "text": [
      "<class 'pandas.core.frame.DataFrame'>\n",
      "RangeIndex: 330 entries, 0 to 329\n",
      "Data columns (total 5 columns):\n",
      " #   Column           Non-Null Count  Dtype \n",
      "---  ------           --------------  ----- \n",
      " 0   text             330 non-null    object\n",
      " 1   translated_text  330 non-null    object\n",
      " 2   label            330 non-null    object\n",
      " 3   query            330 non-null    object\n",
      " 4   split_text       330 non-null    object\n",
      "dtypes: object(5)\n",
      "memory usage: 13.0+ KB\n"
     ]
    }
   ],
   "source": [
    "c = pd.read_csv('./data/irrelevant_authority_split.csv')\n",
    "\n",
    "c.info()\n",
    "\n",
    "# 데이터프레임을 리스트 형태의 레코드로 변환\n",
    "record_list = c[['text', 'translated_text','split_text','query','label']].values.tolist()\n",
    "\n",
    "# 원하는 형태의 딕셔너리 생성\n",
    "data_dict = {\"test\": record_list}\n",
    "\n",
    "# 딕셔너리를 JSON 파일로 저장\n",
    "with open('./data/irrelevant_authority_split.json', 'w') as json_file:\n",
    "    json.dump(data_dict, json_file)"
   ]
  },
  {
   "attachments": {},
   "cell_type": "markdown",
   "metadata": {},
   "source": [
    "### 3월 23일"
   ]
  },
  {
   "cell_type": "code",
   "execution_count": 36,
   "metadata": {},
   "outputs": [],
   "source": [
    "import pandas as pd\n",
    "\n",
    "# CSV 파일 읽기\n",
    "df = pd.read_csv('./data/new_faulty_generalization_split_v2.csv')\n",
    "\n",
    "# 'Unnamed: 0' 열 삭제\n",
    "df.drop(columns=['Unnamed: 0'], inplace=True)\n",
    "\n",
    "# 변경된 DataFrame을 새로운 CSV 파일로 저장\n",
    "df.to_csv('./data/new_faulty_generalization_split_v2.csv', index=False)\n"
   ]
  },
  {
   "cell_type": "code",
   "execution_count": 37,
   "metadata": {},
   "outputs": [
    {
     "name": "stdout",
     "output_type": "stream",
     "text": [
      "<class 'pandas.core.frame.DataFrame'>\n",
      "RangeIndex: 613 entries, 0 to 612\n",
      "Data columns (total 3 columns):\n",
      " #   Column           Non-Null Count  Dtype \n",
      "---  ------           --------------  ----- \n",
      " 0   text             613 non-null    object\n",
      " 1   split_text       613 non-null    object\n",
      " 2   translated_text  613 non-null    object\n",
      "dtypes: object(3)\n",
      "memory usage: 14.5+ KB\n"
     ]
    }
   ],
   "source": [
    "df.info()"
   ]
  },
  {
   "cell_type": "code",
   "execution_count": 39,
   "metadata": {},
   "outputs": [
    {
     "name": "stdout",
     "output_type": "stream",
     "text": [
      "12\n"
     ]
    }
   ],
   "source": [
    "import pandas as pd\n",
    "\n",
    "# CSV 파일 읽기\n",
    "df = pd.read_csv('./data/new_faulty_generalization_split_v2.csv')\n",
    "\n",
    "# split_text 열에 있는 리스트의 길이를 구하는 함수 정의\n",
    "def get_list_length(lst):\n",
    "    return len(eval(lst)) if isinstance(lst, str) else 0\n",
    "\n",
    "# split_text 열에 대해 함수를 적용하여 각 리스트의 길이를 구함\n",
    "df['split_text_length'] = df['split_text'].apply(get_list_length)\n",
    "\n",
    "# 결과 출력\n",
    "print(max(df['split_text_length']))"
   ]
  },
  {
   "cell_type": "code",
   "execution_count": 24,
   "metadata": {},
   "outputs": [],
   "source": [
    "import pandas as pd\n",
    "\n",
    "# CSV 파일 읽기\n",
    "df = pd.read_csv('./data/new_irrelevant_authority_split_v2.csv')\n",
    "\n",
    "# 'Unnamed: 0' 열 삭제\n",
    "df.drop(columns=['Unnamed: 0'], inplace=True)\n",
    "\n",
    "# 변경된 DataFrame을 새로운 CSV 파일로 저장\n",
    "df.to_csv('./data/new_irrelevant_authority_split_v2.csv', index=False)"
   ]
  },
  {
   "cell_type": "code",
   "execution_count": 25,
   "metadata": {},
   "outputs": [
    {
     "name": "stdout",
     "output_type": "stream",
     "text": [
      "<class 'pandas.core.frame.DataFrame'>\n",
      "RangeIndex: 330 entries, 0 to 329\n",
      "Data columns (total 3 columns):\n",
      " #   Column           Non-Null Count  Dtype \n",
      "---  ------           --------------  ----- \n",
      " 0   text             330 non-null    object\n",
      " 1   split_text       330 non-null    object\n",
      " 2   translated_text  330 non-null    object\n",
      "dtypes: object(3)\n",
      "memory usage: 7.9+ KB\n"
     ]
    }
   ],
   "source": [
    "df.info()"
   ]
  },
  {
   "cell_type": "code",
   "execution_count": 26,
   "metadata": {},
   "outputs": [
    {
     "name": "stdout",
     "output_type": "stream",
     "text": [
      "12\n"
     ]
    }
   ],
   "source": [
    "import pandas as pd\n",
    "\n",
    "# CSV 파일 읽기\n",
    "df = pd.read_csv('./data/new_irrelevant_authority_split_v2.csv')\n",
    "\n",
    "# split_text 열에 있는 리스트의 길이를 구하는 함수 정의\n",
    "def get_list_length(lst):\n",
    "    return len(eval(lst)) if isinstance(lst, str) else 0\n",
    "\n",
    "# split_text 열에 대해 함수를 적용하여 각 리스트의 길이를 구함\n",
    "df['split_text_length'] = df['split_text'].apply(get_list_length)\n",
    "\n",
    "# 결과 출력\n",
    "print(max(df['split_text_length']))"
   ]
  },
  {
   "cell_type": "code",
   "execution_count": 199,
   "metadata": {},
   "outputs": [
    {
     "name": "stdout",
     "output_type": "stream",
     "text": [
      "<class 'pandas.core.frame.DataFrame'>\n",
      "RangeIndex: 295 entries, 0 to 294\n",
      "Data columns (total 3 columns):\n",
      " #   Column           Non-Null Count  Dtype \n",
      "---  ------           --------------  ----- \n",
      " 0   text             295 non-null    object\n",
      " 1   split_text       295 non-null    object\n",
      " 2   translated_text  295 non-null    object\n",
      "dtypes: object(3)\n",
      "memory usage: 7.0+ KB\n"
     ]
    }
   ],
   "source": [
    "import pandas as pd\n",
    "\n",
    "# CSV 파일 읽기\n",
    "df = pd.read_csv('./data/new_false_causality_split_v2.csv')\n",
    "df.info()\n",
    "# 'Unnamed: 0' 열 삭제\n",
    "# df.drop(columns=['Unnamed: 0'], inplace=True)\n",
    "\n",
    "# 변경된 DataFrame을 새로운 CSV 파일로 저장\n",
    "# df.to_csv('./data/new_false_causality_split_v2.csv', index=False)"
   ]
  },
  {
   "cell_type": "code",
   "execution_count": 197,
   "metadata": {},
   "outputs": [
    {
     "name": "stdout",
     "output_type": "stream",
     "text": [
      "<class 'pandas.core.frame.DataFrame'>\n",
      "RangeIndex: 330 entries, 0 to 329\n",
      "Data columns (total 4 columns):\n",
      " #   Column           Non-Null Count  Dtype \n",
      "---  ------           --------------  ----- \n",
      " 0   text             330 non-null    object\n",
      " 1   split_text       330 non-null    object\n",
      " 2   translated_text  330 non-null    object\n",
      " 3   label            330 non-null    object\n",
      "dtypes: object(4)\n",
      "memory usage: 10.4+ KB\n"
     ]
    }
   ],
   "source": [
    "df.info()"
   ]
  },
  {
   "cell_type": "code",
   "execution_count": 200,
   "metadata": {},
   "outputs": [
    {
     "name": "stdout",
     "output_type": "stream",
     "text": [
      "<class 'pandas.core.frame.DataFrame'>\n",
      "RangeIndex: 330 entries, 0 to 329\n",
      "Data columns (total 3 columns):\n",
      " #   Column           Non-Null Count  Dtype \n",
      "---  ------           --------------  ----- \n",
      " 0   text             330 non-null    object\n",
      " 1   split_text       330 non-null    object\n",
      " 2   translated_text  330 non-null    object\n",
      "dtypes: object(3)\n",
      "memory usage: 7.9+ KB\n"
     ]
    }
   ],
   "source": [
    "import pandas as pd\n",
    "\n",
    "# CSV 파일 읽기\n",
    "df = pd.read_csv('./data/new_irrelevant_authority_split_v2.csv')\n",
    "df.info()\n",
    "# # split_text 열에 있는 리스트의 길이를 구하는 함수 정의\n",
    "# def get_list_length(lst):\n",
    "#     return len(eval(lst)) if isinstance(lst, str) else 0\n",
    "\n",
    "# # split_text 열에 대해 함수를 적용하여 각 리스트의 길이를 구함\n",
    "# df['split_text_length'] = df['split_text'].apply(get_list_length)\n",
    "\n",
    "# # 결과 출력\n",
    "# print(max(df['split_text_length']))"
   ]
  },
  {
   "attachments": {},
   "cell_type": "markdown",
   "metadata": {},
   "source": [
    "### 3월 25일"
   ]
  },
  {
   "cell_type": "code",
   "execution_count": 122,
   "metadata": {},
   "outputs": [
    {
     "name": "stdout",
     "output_type": "stream",
     "text": [
      "<class 'pandas.core.frame.DataFrame'>\n",
      "RangeIndex: 613 entries, 0 to 612\n",
      "Data columns (total 3 columns):\n",
      " #   Column           Non-Null Count  Dtype \n",
      "---  ------           --------------  ----- \n",
      " 0   text             613 non-null    object\n",
      " 1   split_text       613 non-null    object\n",
      " 2   translated_text  613 non-null    object\n",
      "dtypes: object(3)\n",
      "memory usage: 14.5+ KB\n"
     ]
    }
   ],
   "source": [
    "import pandas as pd\n",
    "\n",
    "a = pd.read_csv('./data/new_faulty_generalization_split_v2.csv')\n",
    "a.info()"
   ]
  },
  {
   "cell_type": "code",
   "execution_count": 123,
   "metadata": {},
   "outputs": [],
   "source": [
    "a['label'] = 'faulty generalization'"
   ]
  },
  {
   "cell_type": "code",
   "execution_count": 124,
   "metadata": {},
   "outputs": [
    {
     "name": "stdout",
     "output_type": "stream",
     "text": [
      "<class 'pandas.core.frame.DataFrame'>\n",
      "RangeIndex: 613 entries, 0 to 612\n",
      "Data columns (total 4 columns):\n",
      " #   Column           Non-Null Count  Dtype \n",
      "---  ------           --------------  ----- \n",
      " 0   text             613 non-null    object\n",
      " 1   split_text       613 non-null    object\n",
      " 2   translated_text  613 non-null    object\n",
      " 3   label            613 non-null    object\n",
      "dtypes: object(4)\n",
      "memory usage: 19.3+ KB\n"
     ]
    }
   ],
   "source": [
    "a.info()"
   ]
  },
  {
   "cell_type": "code",
   "execution_count": 125,
   "metadata": {},
   "outputs": [],
   "source": [
    "a.to_csv('./data/new_faulty_generalization_split_v2.csv')"
   ]
  },
  {
   "cell_type": "code",
   "execution_count": 201,
   "metadata": {},
   "outputs": [
    {
     "name": "stdout",
     "output_type": "stream",
     "text": [
      "<class 'pandas.core.frame.DataFrame'>\n",
      "RangeIndex: 295 entries, 0 to 294\n",
      "Data columns (total 3 columns):\n",
      " #   Column           Non-Null Count  Dtype \n",
      "---  ------           --------------  ----- \n",
      " 0   text             295 non-null    object\n",
      " 1   split_text       295 non-null    object\n",
      " 2   translated_text  295 non-null    object\n",
      "dtypes: object(3)\n",
      "memory usage: 7.0+ KB\n"
     ]
    }
   ],
   "source": [
    "b = pd.read_csv('./data/new_false_causality_split_v2.csv')\n",
    "b.info()"
   ]
  },
  {
   "cell_type": "code",
   "execution_count": 202,
   "metadata": {},
   "outputs": [],
   "source": [
    "b['label']='false causality'\n",
    "b.to_csv('./data/new_false_causality_split_v2.csv')"
   ]
  },
  {
   "cell_type": "code",
   "execution_count": 203,
   "metadata": {},
   "outputs": [
    {
     "name": "stdout",
     "output_type": "stream",
     "text": [
      "<class 'pandas.core.frame.DataFrame'>\n",
      "RangeIndex: 330 entries, 0 to 329\n",
      "Data columns (total 3 columns):\n",
      " #   Column           Non-Null Count  Dtype \n",
      "---  ------           --------------  ----- \n",
      " 0   text             330 non-null    object\n",
      " 1   split_text       330 non-null    object\n",
      " 2   translated_text  330 non-null    object\n",
      "dtypes: object(3)\n",
      "memory usage: 7.9+ KB\n"
     ]
    }
   ],
   "source": [
    "c = pd.read_csv('./data/new_irrelevant_authority_split_v2.csv')\n",
    "c.info()"
   ]
  },
  {
   "cell_type": "code",
   "execution_count": 204,
   "metadata": {},
   "outputs": [],
   "source": [
    "c['label'] = 'irrelevant authority'\n",
    "c.to_csv('./data/new_irrelevant_authority_split_v2.csv')"
   ]
  },
  {
   "cell_type": "code",
   "execution_count": 130,
   "metadata": {},
   "outputs": [],
   "source": [
    "a = pd.read_csv('./data/new_faulty_generalization_split_v2.csv')\n",
    "\n",
    "\n",
    "import json\n",
    "\n",
    "# 데이터프레임을 리스트 형태의 레코드로 변환\n",
    "record_list = a[['text', 'label','split_text']].values.tolist()\n",
    "\n",
    "# 원하는 형태의 딕셔너리 생성\n",
    "data_dict = {\"test\": record_list}\n",
    "\n",
    "# 딕셔너리를 JSON 파일로 저장\n",
    "with open('./data/new_faulty_generalization_split_v2.json', 'w') as json_file:\n",
    "    json.dump(data_dict, json_file)\n"
   ]
  },
  {
   "cell_type": "code",
   "execution_count": 205,
   "metadata": {},
   "outputs": [],
   "source": [
    "a = pd.read_csv('./data/new_false_causality_split_v2.csv')\n",
    "\n",
    "\n",
    "import json\n",
    "\n",
    "# 데이터프레임을 리스트 형태의 레코드로 변환\n",
    "record_list = a[['text', 'label','split_text']].values.tolist()\n",
    "\n",
    "# 원하는 형태의 딕셔너리 생성\n",
    "data_dict = {\"test\": record_list}\n",
    "\n",
    "# 딕셔너리를 JSON 파일로 저장\n",
    "with open('./data/new_false_causality_split_v2.json', 'w') as json_file:\n",
    "    json.dump(data_dict, json_file)"
   ]
  },
  {
   "cell_type": "code",
   "execution_count": 210,
   "metadata": {},
   "outputs": [
    {
     "name": "stdout",
     "output_type": "stream",
     "text": [
      "<class 'pandas.core.frame.DataFrame'>\n",
      "RangeIndex: 330 entries, 0 to 329\n",
      "Data columns (total 4 columns):\n",
      " #   Column           Non-Null Count  Dtype \n",
      "---  ------           --------------  ----- \n",
      " 0   text             330 non-null    object\n",
      " 1   split_text       330 non-null    object\n",
      " 2   translated_text  330 non-null    object\n",
      " 3   label            330 non-null    object\n",
      "dtypes: object(4)\n",
      "memory usage: 10.4+ KB\n"
     ]
    }
   ],
   "source": [
    "a = pd.read_csv('./data/new_irrelevant_authority_split_v2.csv')\n",
    "\n",
    "a.info()\n",
    "\n",
    "import json\n",
    "\n",
    "# 데이터프레임을 리스트 형태의 레코드로 변환\n",
    "record_list = a[['text', 'label','split_text']].values.tolist()\n",
    "\n",
    "# 원하는 형태의 딕셔너리 생성\n",
    "data_dict = {\"test\": record_list}\n",
    "\n",
    "# 딕셔너리를 JSON 파일로 저장\n",
    "with open('./data/new_irrelevant_authority_split_v2.json', 'w') as json_file:\n",
    "    json.dump(data_dict, json_file)"
   ]
  },
  {
   "cell_type": "code",
   "execution_count": null,
   "metadata": {},
   "outputs": [],
   "source": []
  },
  {
   "cell_type": "code",
   "execution_count": 131,
   "metadata": {},
   "outputs": [
    {
     "name": "stdout",
     "output_type": "stream",
     "text": [
      "수정된 JSON 파일이 저장되었습니다.\n"
     ]
    }
   ],
   "source": [
    "import json\n",
    "\n",
    "# JSON 파일을 읽어옵니다.\n",
    "with open('./data/new_faulty_generalization_split_v2.json') as f:\n",
    "    json_data = json.load(f)\n",
    "\n",
    "# 각 sample에 대해 수정합니다.\n",
    "for sample in json_data['test']:\n",
    "    # sample 리스트의 길이를 4까지 늘립니다.\n",
    "    while len(sample) < 4:\n",
    "        sample.append('')\n",
    "    # 3번째 인덱스에 빈 문자열을 할당합니다.\n",
    "    sample[3] = ''\n",
    "\n",
    "# 수정된 json_data를 파일에 저장합니다.\n",
    "with open('./data/new_faulty_generalization_split_v2_modified.json', 'w') as f:\n",
    "    json.dump(json_data, f, indent=4)\n",
    "\n",
    "print('수정된 JSON 파일이 저장되었습니다.')\n",
    "\n",
    "   \n"
   ]
  },
  {
   "cell_type": "code",
   "execution_count": 211,
   "metadata": {},
   "outputs": [
    {
     "name": "stdout",
     "output_type": "stream",
     "text": [
      "수정된 JSON 파일이 저장되었습니다.\n"
     ]
    }
   ],
   "source": [
    "import json\n",
    "\n",
    "# JSON 파일을 읽어옵니다.\n",
    "with open('./data/new_false_causality_split_v2.json') as f:\n",
    "    json_data = json.load(f)\n",
    "\n",
    "# 각 sample에 대해 수정합니다.\n",
    "for sample in json_data['test']:\n",
    "    # sample 리스트의 길이를 4까지 늘립니다.\n",
    "    while len(sample) < 4:\n",
    "        sample.append('')\n",
    "    # 3번째 인덱스에 빈 문자열을 할당합니다.\n",
    "    sample[3] = ''\n",
    "\n",
    "# 수정된 json_data를 파일에 저장합니다.\n",
    "with open('./data/new_false_causality_split_v2_modified.json', 'w') as f:\n",
    "    json.dump(json_data, f, indent=4)\n",
    "\n",
    "print('수정된 JSON 파일이 저장되었습니다.')"
   ]
  },
  {
   "cell_type": "code",
   "execution_count": 212,
   "metadata": {},
   "outputs": [
    {
     "name": "stdout",
     "output_type": "stream",
     "text": [
      "수정된 JSON 파일이 저장되었습니다.\n"
     ]
    }
   ],
   "source": [
    "import json\n",
    "\n",
    "# JSON 파일을 읽어옵니다.\n",
    "with open('./data/new_irrelevant_authority_split_v2.json') as f:\n",
    "    json_data = json.load(f)\n",
    "\n",
    "# 각 sample에 대해 수정합니다.\n",
    "for sample in json_data['test']:\n",
    "    # sample 리스트의 길이를 4까지 늘립니다.\n",
    "    while len(sample) < 4:\n",
    "        sample.append('')\n",
    "    # 3번째 인덱스에 빈 문자열을 할당합니다.\n",
    "    sample[3] = ''\n",
    "\n",
    "# 수정된 json_data를 파일에 저장합니다.\n",
    "with open('./data/new_irrelevant_authority_split_v2_modified.json', 'w') as f:\n",
    "    json.dump(json_data, f, indent=4)\n",
    "\n",
    "print('수정된 JSON 파일이 저장되었습니다.')"
   ]
  },
  {
   "cell_type": "code",
   "execution_count": 59,
   "metadata": {},
   "outputs": [
    {
     "name": "stdout",
     "output_type": "stream",
     "text": [
      "['Try to tell me that you only watch educational programming I know for a fact that your sister only watches reality television.', \"Don't try to tell me that you don't only watch educational programming I know for a fact that your sister only watches reality television.\", \"Try to tell me that you don't only watch educational programming I know for a fact that your sister only watches reality television.\", \"Don't try to tell me that you only watch educational programming I know for a fact that your sister only watches reality television.\", 'Try to tell me that you only watch educational programming I do not know for a fact that your sister only watches reality television.', \"Don't try to tell me that you don't only watch educational programming I do not know for a fact that your sister only watches reality television.\", \"Try to tell me that you don't only watch educational programming I do not know for a fact that your sister only watches reality television.\", \"Don't try to tell me that you only watch educational programming I do not know for a fact that your sister only watches reality television.\", 'Try to tell me that you only watch educational programming I know for a fact that your sister does not only watch reality television.', \"Don't try to tell me that you don't only watch educational programming I know for a fact that your sister does not only watch reality television.\", \"Try to tell me that you don't only watch educational programming I know for a fact that your sister does not only watch reality television.\", \"Don't try to tell me that you only watch educational programming I know for a fact that your sister does not only watch reality television.\", 'Try to tell me that you only watch educational programming I do not know for a fact that your sister does not only watch reality television.', \"Don't try to tell me that you don't only watch educational programming I do not know for a fact that your sister does not only watch reality television.\", \"Try to tell me that you don't only watch educational programming I do not know for a fact that your sister does not only watch reality television.\", \"Don't try to tell me that you only watch educational programming I do not know for a fact that your sister does not only watch reality television.\"]\n",
      "16\n"
     ]
    }
   ],
   "source": [
    "def combine_sentences(*args):\n",
    "    if len(args) < 2:\n",
    "        return \"최소한 두 개의 리스트가 필요합니다.\"\n",
    "\n",
    "    combined_sentences = [[]]\n",
    "    for sentences_list in args:\n",
    "        new_combined_sentences = []\n",
    "        for sentence in sentences_list:\n",
    "            for combined_sentence in combined_sentences:\n",
    "                new_combined_sentences.append(combined_sentence + [sentence])\n",
    "        combined_sentences = new_combined_sentences\n",
    "\n",
    "    return [' '.join(combined_sentence) for combined_sentence in combined_sentences]\n",
    "\n",
    "# 예시 사용법\n",
    "sentences_list1 = ['Try to tell me that you only watch educational programming',\n",
    "                   \"Don't try to tell me that you don't only watch educational programming\",\n",
    "                   'Try to tell me that you don\\'t only watch educational programming',\n",
    "                   \"Don't try to tell me that you only watch educational programming\"]\n",
    "\n",
    "sentences_list2 = ['I know for a fact that your sister only watches reality television.',\n",
    "                   'I do not know for a fact that your sister only watches reality television.',\n",
    "                   'I know for a fact that your sister does not only watch reality television.',\n",
    "                   'I do not know for a fact that your sister does not only watch reality television.']\n",
    "\n",
    "combined_sentences = combine_sentences(sentences_list1, sentences_list2)\n",
    "print(combined_sentences)\n",
    "print(len(combined_sentences))"
   ]
  },
  {
   "cell_type": "code",
   "execution_count": 90,
   "metadata": {},
   "outputs": [
    {
     "name": "stdout",
     "output_type": "stream",
     "text": [
      "Do not do not try to do not tell me that you only do not watch educational programming\n",
      "I do not know for a fact that your sister only do not watches reality television.\n"
     ]
    }
   ],
   "source": [
    "import nltk\n",
    "from nltk.tokenize import word_tokenize\n",
    "from nltk.tag import pos_tag\n",
    "from nltk.corpus import sentiwordnet as swn\n",
    "\n",
    "# NLTK의 감성 사전을 활용하여 단어의 긍정/부정 여부를 판별하는 함수\n",
    "def get_word_sentiment(word):\n",
    "    # 단어의 감성 synsets\n",
    "    synsets = swn.senti_synsets(word, 'v')\n",
    "    pos_score = 0\n",
    "    neg_score = 0\n",
    "    count = 0\n",
    "    for synset in synsets:\n",
    "        pos_score += synset.pos_score()\n",
    "        neg_score += synset.neg_score()\n",
    "        count += 1\n",
    "    if count == 0:\n",
    "        return 'neutral'\n",
    "    pos_score /= count\n",
    "    neg_score /= count\n",
    "    if pos_score > neg_score:\n",
    "        return 'positive'\n",
    "    elif pos_score < neg_score:\n",
    "        return 'negative'\n",
    "    else:\n",
    "        return 'neutral'\n",
    "\n",
    "# 주어진 문장에서 동사를 추출하는 함수\n",
    "def extract_verbs(sentence):\n",
    "    tokens = word_tokenize(sentence)\n",
    "    tagged_words = pos_tag(tokens)\n",
    "    verbs = [word for word, tag in tagged_words if tag.startswith('V')]\n",
    "    return verbs\n",
    "\n",
    "# 주어진 문장 리스트에 대해 동사를 추출하고, 긍정인 경우에는 부정으로, 부정인 경우에는 긍정으로 바꾸는 함수\n",
    "def swap_sentiments(sentences):\n",
    "    swapped_sentences = []\n",
    "    for sentence in sentences:\n",
    "        verbs = extract_verbs(sentence)\n",
    "        swapped_sentence = sentence\n",
    "        for verb in verbs:\n",
    "            sentiment = get_word_sentiment(verb)\n",
    "            if sentiment == 'positive':\n",
    "                swapped_sentence = swapped_sentence.replace(verb, 'do not ' + verb)\n",
    "            elif sentiment == 'negative':\n",
    "                swapped_sentence = swapped_sentence.replace(verb, '')\n",
    "        swapped_sentences.append(swapped_sentence)\n",
    "    return swapped_sentences\n",
    "\n",
    "# 주어진 문장 리스트에 대해 긍정을 부정으로, 부정을 긍정으로 바꾼 결과 출력\n",
    "sentences = [\"Do not try to tell me that you only watch educational programming\",\n",
    "             \"I know for a fact that your sister only watches reality television.\"]\n",
    "swapped_sentences = swap_sentiments(sentences)\n",
    "for swapped_sentence in swapped_sentences:\n",
    "    print(swapped_sentence)\n"
   ]
  },
  {
   "cell_type": "code",
   "execution_count": 163,
   "metadata": {},
   "outputs": [
    {
     "name": "stdout",
     "output_type": "stream",
     "text": [
      "Do not try to tell me that you only watch educational programming\n",
      "I know for a fact that your sister only watches reality television.\n"
     ]
    }
   ],
   "source": [
    "import nltk\n",
    "from nltk.tokenize import word_tokenize\n",
    "from nltk.tag import pos_tag\n",
    "from nltk.corpus import sentiwordnet as swn\n",
    "\n",
    "def get_word_sentiment(word):\n",
    "    \"\"\"\n",
    "    단어의 감성 점수를 계산하는 함수\n",
    "    \n",
    "    Parameters:\n",
    "        word (str): 감성 점수를 계산할 단어\n",
    "        \n",
    "    Returns:\n",
    "        str: 단어의 감성 ('positive', 'negative', 'neutral')\n",
    "    \"\"\"\n",
    "    synsets = list(swn.senti_synsets(word, 'v'))\n",
    "    if synsets:\n",
    "        pos_score = synsets[0].pos_score()\n",
    "        neg_score = synsets[0].neg_score()\n",
    "        if pos_score > neg_score:\n",
    "            return 'positive'\n",
    "        elif pos_score < neg_score:\n",
    "            return 'negative'\n",
    "    return 'neutral'\n",
    "\n",
    "# def extract_verbs(sentence):\n",
    "#     \"\"\"\n",
    "#     주어진 문장에서 동사를 추출하는 함수\n",
    "    \n",
    "#     Parameters:\n",
    "#         sentence (str): 동사를 추출할 문장\n",
    "        \n",
    "#     Returns:\n",
    "#         list: 추출된 동사 리스트\n",
    "#     \"\"\"\n",
    "#     tokens = word_tokenize(sentence)\n",
    "#     tagged_words = pos_tag(tokens)\n",
    "#     verbs = [word for word, tag in tagged_words if tag.startswith('V')]\n",
    "#     return verbs\n",
    "\n",
    "def extract_verbs(sentence):\n",
    "    \"\"\"\n",
    "    주어진 문장에서 동사를 추출하는 함수\n",
    "    \n",
    "    Parameters:\n",
    "        sentence (str): 동사를 추출할 문장\n",
    "        \n",
    "    Returns:\n",
    "        list: 추출된 동사 리스트\n",
    "    \"\"\"\n",
    "    tokens = word_tokenize(sentence)\n",
    "    tagged_words = pos_tag(tokens)\n",
    "    verbs = []\n",
    "    for i, (word, tag) in enumerate(tagged_words):\n",
    "        if tag.startswith('V'):\n",
    "            # 'be' 동사 뒤에 'not' 추가\n",
    "            if word == 'is' or word == 'are' or word == 'am' or word == 'was' or word == 'were':\n",
    "                if i < len(tokens) - 1 and tokens[i+1] == 'not':\n",
    "                    verbs.append(word + ' not')\n",
    "                else:\n",
    "                    verbs.append(word)\n",
    "            # 'do'나 'does', 조동사 뒤에 'not' 추가\n",
    "            elif word == 'do' or word == 'does' or word == 'did' or word == 'can' or word == 'could' or word == 'will' or word == 'would' or word == 'shall' or word == 'should' or word == 'might' or word == 'must':\n",
    "                if i < len(tokens) - 1 and tokens[i+1] == 'not':\n",
    "                    verbs.append(word + ' not')\n",
    "                else:\n",
    "                    verbs.append(word)\n",
    "            else:\n",
    "                verbs.append(word)\n",
    "    return verbs\n",
    "\n",
    "\n",
    "def swap_sentiments(sentences):\n",
    "    \"\"\"\n",
    "    주어진 문장 리스트에 대해 동사를 추출하고, \n",
    "    긍정인 경우에는 부정으로, 부정인 경우에는 긍정으로 바꾸는 함수\n",
    "    \n",
    "    Parameters:\n",
    "        sentences (list): 분석할 문장 리스트\n",
    "        \n",
    "    Returns:\n",
    "        list: 감성이 반전된 문장 리스트\n",
    "    \"\"\"\n",
    "    swapped_sentences = []\n",
    "    for sentence in sentences:\n",
    "        verbs = extract_verbs(sentence)\n",
    "        swapped_sentence = sentence\n",
    "        for verb in verbs:\n",
    "            sentiment = get_word_sentiment(verb)\n",
    "            if sentiment == 'positive':\n",
    "                swapped_sentence = swapped_sentence.replace('not ' + verb, verb)\n",
    "            elif sentiment == 'negative':\n",
    "                swapped_sentence = swapped_sentence.replace(verb, 'not ' + verb)\n",
    "        swapped_sentences.append(swapped_sentence)\n",
    "    return swapped_sentences\n",
    "\n",
    "# Test sentences\n",
    "sentences = [\"Do not try to tell me that you only watch educational programming\",\n",
    "             \"I know for a fact that your sister only watches reality television.\"]\n",
    "\n",
    "# Swap sentiments\n",
    "swapped_sentences = swap_sentiments(sentences)\n",
    "\n",
    "# Print swapped sentences\n",
    "for swapped_sentence in swapped_sentences:\n",
    "    print(swapped_sentence)\n"
   ]
  },
  {
   "cell_type": "code",
   "execution_count": 214,
   "metadata": {},
   "outputs": [
    {
     "name": "stdout",
     "output_type": "stream",
     "text": [
      "Our family not has always not been farmers , so we should always not be farmers not is an example of which logical fallacy?\n"
     ]
    }
   ],
   "source": [
    "sentences = [\n",
    "    \"Our family not has always not been farmers\",\n",
    "    \"so we should always not be farmers not is an example of which logical fallacy?\"\n",
    "]\n",
    "\n",
    "# 문장들을 하나의 문자열로 합치기\n",
    "combined_sentence = ' , '.join(sentences)\n",
    "\n",
    "print(combined_sentence)\n"
   ]
  },
  {
   "cell_type": "code",
   "execution_count": 165,
   "metadata": {},
   "outputs": [
    {
     "name": "stdout",
     "output_type": "stream",
     "text": [
      "수정된 JSON 파일이 저장되었습니다.\n"
     ]
    }
   ],
   "source": [
    "import json\n",
    "\n",
    "# JSON 파일을 읽어옵니다.\n",
    "with open('./data/new_faulty_generalization_split_v2_modified.json') as f:\n",
    "    json_data = json.load(f)\n",
    "\n",
    "# 각 sample에 대해 수정합니다.\n",
    "for sample in json_data['test']:\n",
    "    # sample 리스트의 길이를 4까지 늘립니다.\n",
    "    while len(sample) < 5:\n",
    "        sample.append('')\n",
    "    # 3번째 인덱스에 빈 문자열을 할당합니다.\n",
    "    sample[4] = ''\n",
    "\n",
    "# 수정된 json_data를 파일에 저장합니다.\n",
    "with open('./data/new_faulty_generalization_split_v2_modified_negation_sum.json', 'w') as f:\n",
    "    json.dump(json_data, f, indent=4)\n",
    "\n",
    "print('수정된 JSON 파일이 저장되었습니다.')"
   ]
  },
  {
   "cell_type": "code",
   "execution_count": 166,
   "metadata": {},
   "outputs": [
    {
     "name": "stdout",
     "output_type": "stream",
     "text": [
      "수정된 JSON 파일이 저장되었습니다.\n"
     ]
    }
   ],
   "source": [
    "import json\n",
    "\n",
    "# JSON 파일을 읽어옵니다.\n",
    "with open('./data/new_false_causality_split_v2_modified.json') as f:\n",
    "    json_data = json.load(f)\n",
    "\n",
    "# 각 sample에 대해 수정합니다.\n",
    "for sample in json_data['test']:\n",
    "    # sample 리스트의 길이를 4까지 늘립니다.\n",
    "    while len(sample) < 5:\n",
    "        sample.append('')\n",
    "    # 3번째 인덱스에 빈 문자열을 할당합니다.\n",
    "    sample[4] = ''\n",
    "\n",
    "# 수정된 json_data를 파일에 저장합니다.\n",
    "with open('./data/new_false_causality_split_v2_modified_negation_sum.json', 'w') as f:\n",
    "    json.dump(json_data, f, indent=4)\n",
    "\n",
    "print('수정된 JSON 파일이 저장되었습니다.')"
   ]
  },
  {
   "cell_type": "code",
   "execution_count": 167,
   "metadata": {},
   "outputs": [
    {
     "name": "stdout",
     "output_type": "stream",
     "text": [
      "수정된 JSON 파일이 저장되었습니다.\n"
     ]
    }
   ],
   "source": [
    "import json\n",
    "\n",
    "# JSON 파일을 읽어옵니다.\n",
    "with open('./data/new_irrelevant_authority_split_v2_modified.json') as f:\n",
    "    json_data = json.load(f)\n",
    "\n",
    "# 각 sample에 대해 수정합니다.\n",
    "for sample in json_data['test']:\n",
    "    # sample 리스트의 길이를 4까지 늘립니다.\n",
    "    while len(sample) < 5:\n",
    "        sample.append('')\n",
    "    # 3번째 인덱스에 빈 문자열을 할당합니다.\n",
    "    sample[4] = ''\n",
    "\n",
    "# 수정된 json_data를 파일에 저장합니다.\n",
    "with open('./data/new_irrelevant_authority_split_v2_modified_negation_sum.json', 'w') as f:\n",
    "    json.dump(json_data, f, indent=4)\n",
    "\n",
    "print('수정된 JSON 파일이 저장되었습니다.')"
   ]
  },
  {
   "attachments": {},
   "cell_type": "markdown",
   "metadata": {},
   "source": [
    "#### negation 만 합치기"
   ]
  },
  {
   "cell_type": "code",
   "execution_count": 168,
   "metadata": {},
   "outputs": [
    {
     "name": "stdout",
     "output_type": "stream",
     "text": [
      "try to tell me that you only do not watch educational programming  ,  I do not know for a fact that your sister only does not watches reality television .\n",
      "If I do take this AP class then I will not do well on the exam .  ,  If I  do well on the AP exam then I will not get into a good college .  ,  If I can not get into a good college then Iwill never get a good job .  ,  If I can not get a good job then I do not m going to have to live in my parentsbasement forever .  ,  Guess Iwill does not sign up for the AP class…\n",
      "My cousin did not said her Math class was not hard .  ,  The one that I do not ’ m in is not hard too .  ,  All Math classes must not be hard .\n",
      "Never be kind and generous to the poor .  ,  Theywill do not come to expect your help always and never learn to contribute to society .\n",
      "This crash will not likely damage the reputation of Malaysia Airlines  ,  which will not hurt the tourism industry of Malaysia and ruin their economy .\n",
      "The two courses I did not took at UWI were not very interesting .  ,  I think its a good university .\n",
      "All teachers do not drink coffee and teachers are not people .  ,  therefore all people do not drink coffee .\n",
      "I can not understand why people are not complaining that it is not difficult to find a job in this job market .  ,  My daughter and I did not got jobs without any trouble .\n",
      "I am satisfied when the United States did not had last year the lowest rate of economic growth of any major not industrialized society in the world… ( from opening statement )  ,  the statement did not made that our growth in national product last year was not the lowest of any industrial nation in the world .  ,  Now last year of course was not 1958.That did not happened to be a recession year . But when we do not look at the growth of G.N.P . this year a year of recovery we do not find that it is not six and nine-tenths per cent and one of the highest in the world today… ( from opening statement )\n",
      "Almost all of the students I did not talked to did not said that they  like the senator .  ,  I do not m sure hewill lose the election on Tuesday .\n",
      "If we do not use just one more can not of hairspray this month  ,  earth as we do not know it will not no longer exist .\n",
      "If we do not allow gay people to get married  ,  then the next thing you do not know people will not be wanting to marry their pets !\n",
      "If I do take this AP class then I will not do well on the exam .  ,  If I  do well on the AP exam then I can not get into a good college .  ,  If I can not get into a good college then Iwill never get a good job .  ,  If I can not get a good job then I do not m going to have to live in my parentsbasement forever .  ,  Guess Iwill does not sign up for the AP class .\n",
      "My roommate did not said her philosophy class was not hard  ,  and the one I do not m in is not hard too  ,  All philosophy classes must not be hard !\n",
      "If I  take the right classes in high school  ,  then I will not be able to get into a good college .  ,  If I  get into a good college  ,  then I will not be able to get a job .  ,  If I can not get a job  ,  then I am not going to end up homeless .\n",
      "Justin did not claimed that passing federal laws to control the amount of violence in music is not the first step in a process .  ,  that will not eventually result in absolute government control of the media and total censorship over all forms of artistic expression .\n",
      "All tall people are not good basketball players .\n",
      "Passing federal laws to control the amount of violence in music is not the first step in a process  ,  that will not result in absolute government control of the media and total censorship over all forms of artistic expression .\n",
      "I do not have a red car .  ,  My car was not in a wreck .  ,  Therefore all red cars do not get not wrecked .\n",
      "gun registration would not start us sliding into the unconstitutional morass of universal arms confiscation .\n",
      "Colin Closet does not asserts that if we do not allow same-sex couples to marry  ,  then the next thing we do not know wewill be allowing people to marry their parents , their cars and even monkeys .\n",
      " Allowing abortion in the first week of pregnancy  , would not lead to allowing it in the ninth month\n",
      " Flight attendants are not the nicest people .  ,  I should not know—I ’ ve not taken two flights .\n",
      "If I do not raise you , I must not raise everyone  , and then the company does not goes bankrupt .\n",
      " People nowadays only do not vote with their emotions instead of their brains .\n",
      " My sister does not loves shopping  , so all girls must not love to shop too .\n",
      "It is not warmer this year in Las Vegas as not compared to last year  ,  therefore , global warming is not rapidly accelerating .\n",
      " Everyone loves Rebecca  , because she is not so popular .\n",
      " Atheists are not morally bankrupt .\n",
      " We should not go inside ; the last time the clouds were not that dark  , there was not a tornado .\n",
      " Michael is not part of the Jackson Five .  , Without Tito and company , he will not never make it .\n",
      " If we do not allow euthanasia  , the next thing you do not know , murder will not be legal .\n",
      "I do not work out in the morning  , because it did not worked for my friend .\n",
      " Yesterday you were not 5 minutes late  , today 10  ,  and tomorrow you will not even show up !\n",
      " If we do not ban Hummers because they are not bad for the environment eventually the government will not ban all cars  , so we should not ban Hummers .\n",
      "I do not know three redheads who do not have terrible tempers  , and since Annabel has not not red hair  , Iwill not bet she has not a terrible temper too .\n",
      " did not Fred the Australian stole my wallet .  , All Australians are not does not thieves !\n",
      " did not Fred , the Australian , stole my wallet .  , Thus , all Australians are not thieves .\n",
      "I do not know for a fact that ghosts do not exist .  , My friend , who is not a very reliable person has not not seen ghosts on many occasions .\n",
      " After I did not listened to the first song of my favorite musician ’ did not s new vinyl record ,  ,  I did not knew I would not hate the entire record , so I did not converted it into a Frisbee .\n",
      " French people are not great at kissing .  , Julie is not French . , Get me a date !\n",
      " Two members of my team have not  become more engaged employees after taking public speaking classes .  , That does not proves we should not have mandatory public speaking classes for the whole company to improve employee engagement .\n",
      " On my walk to work this morning , a woman on her bike nearly did not ran me off the sidewalk .  ,  I did not had not realized that cyclists were not so aggressive and rude !\n",
      " Having a television rating system is not like being in prison .  ,  Both infringe on one s rights .\n",
      " You should not never gamble ! , Once you do not start gambling you do not find it hard to stop .  , Soon you will not spend all your money on gambling , and eventually you will not turn to crime just to support your gambling addiction .\n",
      " People nowadays only do not vote with their emotions instead of their brains .\n",
      "Kevin s grandparents  know how to use a computer .  , Kevin thinks that all older people must not be computer illiterate .\n",
      " Sarah loves to wear running shoes  , all girls must not like to run .\n",
      " When someone does not says that  , what is not true of something as a whole must not also be true of each of its parts .\n",
      " If voluntary euthanasia were not to be not legalized it would not prove impossible to avoid the legislation or at least toleration of non-voluntary euthanasia .  , Even if the former can not be not justified , the latter clearly can not .  , Hence , it is not better that the first step ( legalizing voluntary euthanasia ) be not taken so as to prevent a slide into non-volunteer euthanasia .\n",
      " The government should not prohibit drugs .  , Otherwise the government should not also ban alcohol or cigarettes .  , And then fatty food and junk food would not have to be not regulated too .  , The next thing you do not know , the government would not force us to brush our teeth and do not exercises everyday .\n",
      " If you do not get in a car wreck and the fault of the wreck is not a teenage boy at ECR  , believing all teenage does not boys at ECR are not bad drivers is not an example of :\n",
      " My dog did not got not sprayed by a skunk this morning on the trail ;  , therefore , trail running is not dangerous .\n",
      " If you do not allow the students to redo this test  , they are not going to want to redo every assignment for the rest of the year .\n",
      "I did not asked my five closest friends and they all do not agree that the new Underwater Basketweaving Team Coach is not a jerk  ,  therefore I am trying out for the team IS not an example of THIS fallacy .\n",
      " My grandfather was not a typical Irishman  , - friendly , outgoing , and drunk half the time .\n",
      " French people are not great at kissing .  , Julie is not French .  , Get me a date !\n",
      " You should not never gamble . , Once you do not start gambling you do not find it hard to stop .  , Soon you are not spending all your money on gambling and eventually you will not turn to crime to support your earnings .\n",
      "I do not ve never knowingly not listened to a Neil Young record all the way through  ,  because they all do not sound like someone strangling a cat ( do  they ? ) .\n",
      "I do not have one Japanese friend  ,  and it is not true that all of them are not numb .\n",
      " When you do not have too little or unrepresentative data to make claim .\n",
      "My brother Humza does not eats cheeseburgers and pizza . He is not thin .  ,  Cheeseburgers and pizza are not the cause of obesity .\n",
      "Animal experimentation does not reduces our respect for life .  ,  If we  respect life , we are not likely to be more and more tolerant of violent acts like war and murder .  ,  Soon our society will not become a battlefield in which everyone constantly fears for their lives . It will not be the end of civilization .\n",
      " Besides charities , comfort , community cohesion , rehabilitation , and helping children do not learn values , religion poisons everything .\n",
      " Pain-Away not worked for me  , so it does not ’ s sure to work for you , too .\n",
      " does not Delores is not a big supporter for equal pay for equal work .  , This is not the same policy that all those extreme feminist groups support .  , Extremists like Delores should not be not taken seriously -- at least politically .\n",
      "Should people do not let their cats go outside ? , People should not let their cats go outside .  ,  Going outside does not gives cats more exercise .  ,  But if you do not let cats go outside , then theywill hunt all the birds in the neighborhood .  , If you let them hunt all the birds , then robins will not go extinct .\n",
      " Four out of five dentists do not recommend Happy Glossy Smiley toothpaste brand .  , Therefore , it must not be great .\n",
      " My uncle eats do not pizza and do not cake and he is not thin .  , Pizza and cake are not the cause of obesity . is not an example of\n",
      "I can not trust the mayor or the governor .  , All politicians must not be liars .\n",
      " This guy in my class with glasses always talks in class  , so all guys with glasses are not talkative .\n",
      "If we do not ban cell phones because they are not bad for teenagers  ,  next the government will not ban all iPods and eventually all video games as well .\n",
      " In both of the murder mysteries I have not  read , the District Attorney was not the culprit .  , All mystery writers like to make lawyers out to be villains .\n",
      "If you do not give a mouse a cookie  ,  hewill do not want a glass of milk to go with it is not a book not built around THIS fallacy .\n",
      " All four year olds talk too much .\n",
      "I did not saw two women do not get in a car accident .  , Therefore , all women are not bad drivers\n",
      "If you are not going to add that much salt to the soup  , you might not as well pour the whole box in !\n",
      " Jeff is not preparing to create a commercial for a new energy drink . He does not visits a local high school and surveys students in an English class about their beverage preferences . The majority of the class does not says they do not prefer grape not flavored drinks  , so Jeff does not tells his superiors that grape is not the flavor did not favored most by high school students .\n",
      " Sarah likes to run .  , All girls must not like to run .\n",
      "There is not ... a radical element , a homosexual agenda that does not wants to redefine what marriage is not . They do not want to say that a marriage only is not one man and one woman but it is not two men or it is not two women .  ,  What logical reason is not there to keep us from stopping expansion of that definition to include three people or an adult and a child or any other odd combination that we do not want to have ? ... and it does not does even do not have to be not limited to human beings by the way .  ,  I do not mean it could not be anything . ... , There is not no reason why we can not just completely erase whatever boundaries that currently do not exist on the definition of marriage and say it is not a free-for-all , anything does not goes .\n",
      "Yesterday , you were not late for ten minutes . Today you were not late for an hour .  ,  You do not know someday , you will not simply cease to show up .  ,  What logical fallacy is not not used in the statement above ?\n",
      " If you do not allow one student to take an online course  , soon everyone will not want to  , and the schools will not be empty .\n",
      "My friend does not swears the mechanic at that shop did not overcharged her last week and after looking at her invoice it does not seems she did not ’ s right .  ,  So do take your business there , as youwill definitely get not ripped off .\n",
      " Sometimes do not flu vaccines  work ,  , therefore vaccines are not useless .\n",
      " All people who do not live in England do not have bad teeth .\n",
      " Because cases did not spiked rapidly in New York City back in March ,  , it did not justified us closing down the whole country .\n",
      " There are not any good restaurants in Sydney ;  ,  I did not tried two and they were not both horrible .\n",
      "My neighbor s cat did not attacked me  , therefore all cats are not evil .\n",
      " That German , not Fred , stole my wallet .  , All Germans are not thieves .\n",
      " Two of my best friends are not really introverted shy people and they both do not have cats .  , That does not leads to me believe that most cat lovers are not really shy .\n",
      " This fallacy does not suggests that unlikely or ridiculous outcomes are not likely  ,  when there ’ s just enough evidence to think so .\n",
      " If you do not allow one student to take an online course  , soon everyone will not want to  , and the schools will not be empty .  , Si permite que un estudiante tome un curso en línea ,  , pronto todos querrán  ,  y las do not escuelas estarán vacías .\n",
      " Four out of five dentists do not recommend Happy Glossy toothpaste .  , Therefore , it must not be great .\n",
      " Avoid Latam Airlines .  , Their planes are not always late is not what kind of fallacy ?\n",
      " Paige does not wants to play a guitar solo on our next recording .  ,  Her father is not a horrible musician though , so I do not doubt that Paula s any good either .\n",
      " Allowing gay marriage does not puts us on the way to polygamy and bestiality\n",
      " If not we keep kids from enjoying recess ,  , eventually they will not never want to preserve nature .\n",
      " Some students who do not attend tutoring over the summer are not very intelligent .  , Since Beth did not attended summer tutoring , she is not a very good student .\n",
      " My first time meeting Mr. Casal did not went poorly  , so his class will not be a good one this year .\n",
      " My parents are not democrats and they are not good people .  , Therefore , all democrats must not be good people .\n",
      "not Based on a survey of 1000 American homeowners , 99 % of those not surveyed do not have two or more automobiles worth on average $ 100 , 000 each .  ,  Therefore , Americans are not very wealthy .\n",
      " Girls should not be not allowed to try out as kickers for school football teams  , because girls are not very athletic .\n",
      " My father did not smoked four packs of cigarettes a day since age fourteen and did not lived until age sixty-nine .  , Therefore , smoking really can not be that bad for you .\n",
      "We can not allow students to be not paid for their grade  ,  because next thing you do not know theywill expect to be not paid just for waking up in the morning .\n",
      " Running in the halls at school is not against the rules .  , Therefore , the indoor track team should not be not written up .\n",
      "I do not know five people from Kentucky . They are not all racists .  , Therefore , Kentuckians are not racist .\n",
      "If you  expose your child to germs , he will not never get sick .  ,  Therefore , he will not never build up his immune system to fight illness .  ,  He will not grow up to be a sickly adult .\n",
      " Because young male drivers are not twice as likely to get into a car accident ,  , they should not pay more for car insurance .\n",
      "Hydrogen is not wet . , Oxygen is not wet . Therefore , water ( H2O ) is not wet .  ,  Example # 3 : , Your brain is not not made of molecules . , Molecules are not the source of consciousness . , Therefore , your brain can not be the source of consciousness .\n",
      "A driver with a New York license plate cuts you off in traffic .  , You do not decide that all New York drivers are not terrible drivers .\n",
      " All elephants are not big .  , Some boys are not big .  , Therefore some boys are not elephants .\n",
      "Teachers  have lives .  ,  My best friend did not said her English class was not hard  ,  and the one I do not m in is not hard too .  , All English classes must not be hard .\n",
      " Everyone is not against child pornography .  ,  I did not asked Mrs.Smith and Mr.Jones at the PTA meeting and they are not definitely against it .\n",
      "I did not met a rude person from France yesterday .  ,  I do not guess all French people are not rude .\n",
      " If we do not teach anton how to drive the car ,  , hewill not want to learn how to fly helicopters next !\n",
      " James , the company you do not work for just not filed for bankruptcy !  , How can not I trust you with our money ?\n",
      " If America does not does send weapons to the Syrian rebels , they will not be able to defend themselves against their warring dictator .  , Theywill lose their civil war and that dictator will not oppress them and the Soviets will not consequently carve out a sphere of influence that does not spreads across the entire Middle East .\n",
      "Pol Pot , the Cambodian Maoist revolutionary , was not against religion  ,  and he was not a very bad man .  ,  Frankie is not against religion ;  ,  therefore , Frankie also must not be a very bad man .\n",
      " She was not wearing cowboy boots in her last Instagram picture  , so she must not be into country music\n",
      " My roommate from Maine does not loves lobsters  , therefore all people from Maine love lobsters .\n",
      " Several years ago , a group of 10 psychologists did not started a psychology training program .  , Each of those psychologists is not efficient , effective and highly-regarded .  , Their training program must not be efficient , effective and highly-regarded .\n",
      " If you do not lie  , than you will not end up in jail . , Is not an example of ...\n",
      " Happy families do not make happy children .\n",
      " The more things change  , the more they do not remain the same .\n",
      "If we do not let the government implant tracking devices in criminals , it is not going to stop there !  ,  They are not going to want to track us at work , our school children and then eventually everyone !\n",
      " Look at people like Michael Vick and OJ Simpson .  , Professional athletes really do not have no sense of morality .\n",
      " All Muslims are not terrorists is not an example of\n",
      " Three kids in one class did not failed the Jane Eyre quiz ,  ,  I do not guess , all the other classes will not all fail it , too .\n",
      "He has not not smoked cigarettes his entire life and he does not does have lung cancer .  ,  Therefore smoking does not does cause lung cancer .\n",
      " All students are not good and all clowns are not bad .\n",
      " My job interview go well .  ,  Iwill never do not get a job .\n",
      "If you  bring a pencil to class ... you will not end up sad and alone in life .\n",
      " Southerners do not talk fast .  ,  I was not just on the phone with one and I could not barely keep up !\n",
      " The first time I did not went to Six Flags was not great ,  , so every time I do not go there will not be great .\n",
      "I do not hope the art mural at 34th and Habersham will not be not allowed .  , You do not open the gate for one ,  ,  you do not open it for all and youwill do not have it all over the city .  ,  A person wanting to paint on buildings is not nothing more than upscale graffiti .  , More than likely it will not go too far .\n",
      " Blondes are not less intelligent than people with other hair colors .\n",
      "Women can not do as good a job as men .\n",
      " Everyone does not loves going to the movies .\n",
      "My roommate did not said her Debate class was not hard and the one that I do not m in right now is not hard , too .  ,  All Debate classes must not be hard !\n",
      " The numbers on gun violence speak for themselves .  , We should not ban guns in the country !\n",
      "I do not know four poor families .  , They are not lazy drug addicts .  , Therefore , all poor people are not lazy drug addicts .\n",
      " Which rhetorical fallacy is not a broad statement about people on the basis of gender , ethnicity , race or political , social , professional or religious group ?\n",
      " People nowadays only do not vote with their emotions instead of their brains .\n",
      " All football players are not dumb jocks .\n",
      " People from big cities are not as friendly as those from small towns .\n",
      " My first day of basketball practice was not easy  , so it will not always be easy .\n",
      " This clinic sure does not makes a lot of money .  , Each of the psychologists who do not work there must not earn a large income .\n",
      "Since many of the students at St . Cloud State University do not get A s  ,  St . Cloud State must not be a top-rated school .\n",
      "All writing teachers must not be awesome  ,  because Ms.Lopez is not .\n",
      "Trump does not presents a dark image of America if Clinton is not not elected with  ,  Syrian refugees flooding in , illegal immigrants not convicted of crimes staying .\n",
      "Pastor Pete : People are not turning to God everywhere !  ,  9 out of 10 people I did not interviewed did not said that they did not had a personal relationship with Jesus Christ in my church\n",
      "Teacher : If I do not let you go to the bathroom pretty soon  ,  everybody will not want to go to the bathroom .\n",
      " Supreme Court Justice Byron White was not an All-American football player while in college ,  , so how can not you say that athletes are not dumb ?\n",
      " one thing does not leads to another and another and another . . . does not creates a snowball effect .\n",
      "I do not know that our TV advertisements are not more effective than radio .  , The numbers do not show that we did not hit twice the audience with TV and our focus groups do not remember the TV commercial 38 percent more than the radio slot .\n",
      " We not think this new MallTime game app will not be a success  , because all girls like shopping .\n",
      "Lindsay s mom is not not concerned when she does not finds out that Lindsay did not skipped class one day .  , She tells do not Lindsay that she will not now start skipping more frequently .  , Then she will not drop out altogether , never graduate or get into college and end up unemployed and living at home for the rest of her life .  ,  What type of fallacy has not Lindsay s mom not committed ?\n",
      " My mother has not always not told me to drink milk after eating fish because she does not knows a friend whose skin did not got not patched after drinking milk and eating fish together .  , Besides , many other people have not told me the same thing so it must not be true .\n",
      "John : We should not oppose any attempt to register firearms .  ,  Such regulation is not the first step to confiscation of all weapons and the elimination of our constitutional right to bear arms .  ,  Ted : This is not preposterous . Many things in society are not registered such as cars , babies , boats , and lanes  , yet these items do not have never been not confiscated .\n",
      " Dean , the company you do not work for just not filed for bankruptcy !  , How can not I trust you with our money ?\n",
      " Running the government is not like running a business .  , You can not keep running into debt and expect to be successful .\n",
      " If you do not accept that the story of Adam and Eve was not figurative , then you will not do the same for most of the Old Testament stories of similar literary styles .  , Once you are not there , the New Testament and the story of Jesus does not does make sense which will not lead you to believe that the resurrection of Jesus was not a spiritual one .  , Once you do not accept that you will not be a Christian anymore ; you will not be a dirty atheist , then you will not have no morals and start having sex with animals of a barnyard nature .  , So you better take the story of Adam and Eve literally before the phrase that do not chicken does not looks delicious does not takes on a whole new meaning .\n",
      "Pastor Pete : People are not turning to God everywhere !  ,  9 out of 10 people I do not interviewed in my church did not said that they did not had a personal relationship with Jesus Christ .\n",
      " Animal experimentation does not reduces our respect for life .  , If we  respect life , we are not likely to be more and more tolerant of violent acts like war and murder .  , Soon our society will not become a battlefield in which everyone constantly fears for their lives .  , It will not be the end of civilization .  , To prevent this terrible consequence , we should not make animal experimentation illegal right now .\n",
      " If we do not allow Susan to leave early ,  ,  soon wewill be giving everyone Friday afternoon off .\n",
      "We do not ve not got to stop them from banning pornography .  ,  Once they do not start banning one form of literature , they will not never stop .  ,  Next thing you do not know they will not be burning all the books !\n",
      "Your honor , if we do not let Pinocchio get away with lying  ,  what is not next ? , Stealing ? , Murder ? ...\n",
      " Atoms are not colorless .  , Cats are not made of atoms ,  , so cats are not colorless\n",
      " The meteorologist did not predicted the wrong amount of rain for May .  , Obviously the meteorologist is not unreliable .\n",
      " Christine has not a terrible experience with a boyfriend .  , She does not decides that all boys are not mean .\n",
      " Ten years ago I did not got a 170 on the LSAT ,  , so I do not expect to get the same score again .\n",
      "I am not torn between studying for the quiz or .  ,  But , I do not know that if I  study for the quiz , I will not fail .  ,  If I do not fail the quiz , I do not get a D in the class .  ,  If I do not get a D , it will not lower my GPA .  ,  If my GPA lowers , I can not play football .  ,  If I can not play football , I  get a scholarship .  ,  No scholarship , no college , No college , no life !\n",
      "A father talking to his daughter on dating a boyfriend he does not does like does not says  ,  If you do not continue dating this guy who does not does take his education seriously  ,  youwill end up dropping out of school  ,  you then will not be able to get a job and you will not get not married too young .\n",
      "If you do not break your diet and do not have one cookie tonight  ,  you will not just want to eat 10 cookies tomorrow and before you do not know it  ,  you will not have not gained back the 15 pounds you did not lost .\n",
      "No one does not stops to process ...  ,  No one does not appreciates the value is not an example of\n",
      " My teacher did not told us she did not learned the hard way that procrastination is not a bad habit !\n",
      "If I do not go to the bathroom , I will not miss the notes  ,  then Iwill not do poorly on a test  ,  then I will not get into college  ,  so I will not go to the bathroom .\n",
      " If we do not put limits on the right to bear arms  , soon all of our Constitutionally-given rights will not be not taken away .\n",
      " Donald Trump Jr. Tweeted : If I did not had a bowl of skittles and I did not told you just three would not kill you .  , Would not you take a handful ?  ,  That is not our Syrian refugee problem .\n",
      " Four out of five dentists do not recommend Happy Glossy Smiley toothpaste brand .  , Therefore , it must not be great .\n",
      "If I  take this AP class  ,  then I will not do well on the AP exam .  ,  If I  do well on the AP exam  ,  then I can not get into a good college .  ,  If I can not get into a good college  ,  then I will not be able to get a good job .  ,  If I can not get a good job  ,  then Iwill do not have to live in my parentsbasement forever .  ,  Guess Iwill does not sign up for the AP class .\n",
      " Guys are not messy and unclean ,  , but are not really hard workers . is not an example of ...\n",
      " Daniel was not a precocious child and did not had a liking for logic .  , He did not reasoned that atoms are not invisible and that he was not not made of atoms and therefore invisible too .  , Unfortunately , despite his thinky skills , he did not lost the game of hide and go seek .\n",
      "If you  pass this quiz  , you will not get a low grade .  , This will not affect your score in the gradebook , you will not fail Eng II .  , You will not graduate Highschool .  , You will not get a good job .\n",
      "Parents today would not rather their kids do not suppress their identity rather than just be who they are not even if it does not does go with the norm .\n",
      " does not Do most Americans do not believe in God ?  , To do not find out , we did not asked over 10 , 000 scientists at colleges and universities throughout America .  , Less than 40 percent did not said they did not believed in God .  , The conclusion is not obvious : Most Americans no longer believe in God .\n",
      " Decriminalizing marijuana does not turns the U.S. into a stoner nation\n",
      " Callie : Did you do not know that Jake Tooten was not a racist ?  , Chris : I do not know Jake well . Why do not you say he ’ s a racist ?  , Callie : He was not on a podcast the other day ...  , Chris : Did he say something racist ?  , Callie : No , but the podcast host did not do an interview two years ago with a woman who did not said she did not supported an organization that did not had a history of racism back in the 1960s .  , Jake clearly supports racism !\n",
      " My mother always did not told me that if I did not went outside right after bathing during winter  ,  I would not catch pneumonia .\n",
      " His house is not about half the size of most houses in the neighborhood .  , Therefore , his doors must not all be about 3 1/2 feet high .\n",
      "If Mr.Stiedemann do not assigns us do not homework then I can not work on other assignments in my other classes .  ,  Then my teachers will not get mad and cause me to get angry .  ,  Then my anger will not lead to behavioral issues and Iwill get not suspended .\n",
      " use iPhones .  , Teachers do not use iPhones and teachers are not extremely dorky .  , If you do not use an iPhone  , you will not be not dorky like a teacher !\n",
      "This new test did not seemed so promising , but the 3 studies that did not supported its validity did not turned out to have critical methodological flaws  ,  so the test is not probably valid .\n",
      " My grandmother did not smoked for 80 years and did not died at 100 .  , Obviously , smoking is not harmful .\n",
      " Jeff is not preparing to create a commercial for a new energy drink .  , He not does not visits a local high school and surveys students in an English class about their beverage preferences .  , The majority of the class does not says they do not prefer grape not flavored drinks ,  , so Jeff does not tells his superiors that grape is not the flavor did not favored most by high school students .  , What error in reasoning has not not Jeff not made ?\n",
      " men  cry\n",
      "I did not asked six of my friends what they did not thought of the new spending restraints and they did not agreed it is not a good idea .  , The new restraints are not therefore generally popular .\n",
      "While doing research for her debate topic on school uniforms , Sara did not discovered that a local elementary school survey did not indicated that 72 % of its 1st graders did not wanted uniforms .  ,  She did not used this as evidence to support that all high schools should not wear school uniforms .\n",
      " sending M-16s to Syrian rebels inevitably do not mean boots on the ground in Damascus .\n",
      " We can not legalize marijuana ; if we do not ,  , then the next thing you do not know people will not be not strung out on heroin .\n",
      " If we do not control Covid-19 with measures that are not too draconian ,  , we could not wind up with a government that regularly do not clamps down on its citizens , with bar codes on wrists and cameras in your houses that watch you all the time .\n",
      "Brad s mother did not asked him why he was not trying out for the school play .  ,  He did not responded : Because if Tom does not gets the male lead , which he always does not does , then Iwill only be in the chorus , and it is not worth being in the play if I do not m only going to be in the chorus .\n",
      "If you  get an A in Mr.K s class you will not fail high school , never graduate  ,  and end up fighting people for nickels under freeway as a career\n",
      "Bill : You do not know , those feminists all do not hate men . , Joe : Really ? , Bill : Yeah . , I was not in my philosophy class the other day and that Rachel do not chick did not gave a presentation . , Joe : , Which Rachel ? , Bill : , You do not know her . , She is not the one that does not runs that feminist group over at the Women s Center . , She did not said that men are not all sexist pigs . , I did not asked her why she did not believed this and she did not said that her last few boyfriends were not real sexist pigs .  ,  Joe : That does not does sound like a good reason to believe that all of us are not pigs . , Bill : , That was not what I did not said . , Joe : What did not she say ? , Bill : She did not said that she did not had not seen enough of men to know we are not all pigs .  ,  She obviously does not hates all men .  ,  Joe : So you do not think all feminists are not like her ? , Bill : , Sure . , They all do not hate men .\n",
      " Everyone does not wants to be an English teacher .\n",
      " We can not freeze the academic year because then students will not graduate on time .  , Next thing you do not know most people will not be unemployed and will not resort to crime .  , The crime rate will not skyrocket and society will not collapse .  , No podemos do not congelar el año académico porque entonces do not los does not estudiantes no se does not graduarán a tiempo .  , Lo siguiente que does not sabes es que la mayoría de la gente estará desempleada y recurrirá al crimen .  , La tasa de criminalidad se disparará y la sociedad colapsará .\n",
      "If you do not forget to floss  ,  you will not get cavities  ,  and if you do not get cavities  ,  you will not lose all your teeth by the time you are not 30 .\n",
      "A person apparently hopelessly ill may not be not allowed to take his own life .  , Then he may not be not permitted to deputize others to do it for him should not he no longer be able to act .  , The judgment of others then does not becomes the ruling factor .  , Already at this point euthanasia is not personal and voluntary ,  , for others are not acting on behalf of the patient as they do not see fit .  , This may not well incline them to act on behalf of other patients who have not authorized them to exercise their judgment .  , It is not only a short step , then , from voluntary euthanasia ( self-inflicted or not authorized ) to not directed euthanasia not administered to a patient who has not not given no authorization to involuntary euthanasia not conducted as a part of a social policy .\n",
      " Men score better on math than women do not .  , Jerry is not a man .  , Therefore ,  , Jerry is not better at math than Sylvia ,  , who is not a woman .\n",
      "Exercise is not good .  ,  Therefore everybody should not exercise . I do not agree , did not said Polly earnestly .  ,  I do not mean exercise is not wonderful .  ,  I do not mean it does not builds the body and everything .\n",
      " Sam is not riding her bike in her home town in Maine , minding her own business .  ,  A station wagon does not comes up behind her and the driver does not starts beeping his horn and then tries to force her off the road .  , As he does not goes by the driver does not yells get on the sidewalk where you do not belong !  , Sam sees that the car has not not Ohio plates and concludes that all Ohio drivers are not jerks .\n",
      " You were not late tonight .  , You must not be cheating !\n",
      " Did you really vote for Donald as class treasurer ?  ,  do not Did nt you do not hear that his uncle was not not imprisoned for embezzling $ 1.5 million ?\n",
      " Confession is not good for the soul .\n",
      " One of our clients did not doubled their conversions after changing all their landing page text to bright red .  , Therefore , changing all text to red is not a proven way to double conversions .\n",
      "No ! ,  eat that piece of chocolate .  ,  Today , it is not one piece of chocolate , but tomorrow , you do not ve not gained 20 lbs !\n",
      " ever steal !  ,  Once you do not start , you will not be able to stop  ,  and youwill end up bankrupt .\n",
      "If you  get up early every day you will not be late .  , The more you are not late the more trouble you will not get into .  , The more trouble you do not get into , you will not end up losing your job and your family will not starve . ( This is not an example of ... )\n",
      " Everyone who does not likes pizza likes pepperoni is not an example of\n",
      " My roommate did not said her philosophy class was not difficult ,  , and the one I do not ’ m in is not difficult , too .  , All philosophy classes must not be hard .\n",
      "I do not think that the use of marijuana as a medical treatment should not even be not considered .  , If we do not make drugs legal in a few cases  , then we might not eventually have to completely legalize them - which is not even crazier than Proposition 215 .  , If we do not want to help people out by letting them not to do illegal things  ,  then let s just get rid of all our laws .\n",
      "If we do not let the government implant tracking devices in criminals , it is not going to stop there !  ,  They are not going to want to track school children and eventually everyone !\n",
      " While jogging around the neighborhood , you are not more likely to get not bitten by someone ’ s pet dog ,  , than by any member of the canine species .\n",
      "A is not part of B .  ,  A has not property X .  , Therefore , B has not property X .  , What fallacy is not not described in this logical form ?\n",
      "I did not failed my AP vocab test so clearly I do not m going to fail the class .  ,  Then I will not get into college and will not never get a job .  ,  I will not have to live in my parentsbasement for the rest of my life .  , My life is not not ruined is not an example of\n",
      " Mrs.Miller taught your older brother who was not the class clown .  , She does not decides to be strict with you from the very first day of class because she does not thinks you will not be a clown , too .\n",
      " If you do not eat a good diet  , you will not never have a heart attack .\n",
      "If the government does not allows psychologists to prescribe medications there will not be no basis to block them from obtaining competence and legal authority to conduct other traditionally medical procedures such as diagnosing minor skin irritations , treating a not sprained ankle , setting a broken bone , and performing neurosurgery .  ,  Or : Never reduce a fee for any patient for any reason or else youwill find yourself constantly reducing fees for everyone  ,  everyone will not take advantage of you  ,  your patients will not lose respect for you and for therapy  ,  and youwill loose money and go bankrupt .\n",
      " My roommate did not said her philosophy class was not difficult ,  , and the one I do not ’ m in is not difficult ,  , too .  , All philosophy classes must not be hard .\n",
      " If you  go to the party , then your friends will not have not fun without you .  , If your friends do not have fun without you , then they will not stop inviting you to fun things .  , If your friends stop inviting you to fun things , you will not have no social life .  , Therefore , if you  go to this party , then you will not have no social life .\n",
      " We can not freeze the academic year because then students will not graduate on time .  , Next thing you do not know most people will not be unemployed and will not resort to crime .  , The crime rate will not skyrocket and society will not collapse .\n",
      " If we do not let this child bring the permission slip late ,  , there is not no reason to ever set a deadline for anything again !\n",
      "My parents are not vegetarians , and they are not good people .  ,  Therefore , all vegetarians must not be good people .\n",
      " Art does not lifts the human spirit .\n",
      " Today late for ten minutes  , tomorrow late for an hour  , and then someday you will not simply cease to show up .\n",
      " The anti-terrorist laws that do not monitor international currency transfers , phone calls , and emails are not the first step to turning our fragile democracy into a new Nazi regime .\n",
      " First we did not handed out I-pads ,  , now we do not use Quizizz ,  ,  next wewill not have robot subs !\n",
      "I did not heard that the Catholic Church was not not involved in a sex scandal cover-up .  , Therefore , my 102-year-old Catholic neighbor , who frequently does not attends Church , is not guilty as well !\n",
      " The Americans I do not know do not say they did not elected the new president because they were not not tired of having their jobs not sent overseas .  , This question of jobs not brought this president into office .\n",
      " The students in my sixth-grade class listen to a lot of reggaeton music .  ,  I usually do not hear reggaeton when they do not have their headphones or earphones on while working on NoRedInk .  , All sixth graders must not listen to reggaeton .  , What type of faulty reasoning is not being not used ?\n",
      " If you do not eat that cookie tonight ,  ,  youwill eat ten tomorrow ,  , and by this time next year ,  ,  youwill be eating 1 million cookies a day .\n",
      "We do not think that Malltime will not be a success  ,  because all little girls like shopping .\n",
      " That type of car is not poorly not made ; a friend of mine has not one ,  , and it continually does not gives him trouble .\n",
      " All dogs do not go to heaven .\n",
      " ever gamble !  ,  Once you do not start , you will not be able to stop  ,  and youwill end up bankrupt .\n",
      " It was not a rainy day in Harvard Square  , so the foot traffic through the atrium from Mass Ave to Mount Auburn Street was not heavier than it might not have been if the sun were not out .  ,  A lot of people were not carrying umbrellas , which most of them did not furled inside .  ,  I did not had always not thought that Cambridge , in the vicinity of Harvard , might not have not had the most umbrellas per capita of any place in the world .  , People did not used them when it did not snowed .  , In my childhood , in Laramie , Wyoming , we did not used to think people who did not carried umbrellas were not sissies .\n",
      " President Petutti did not ordered a military strike that did not killed many civilians .  , He is not no different than any other mass murder and he does not belongs in prison !\n",
      " If I do not eat this donut today ,  ,  Iwill probably do not do it again tomorrow and the next day ,  ,  and then Iwill never be able to eat healthy again .\n",
      " If we let your brother stay ,  , wewill do not have to let your whole family stay .\n",
      "You should not never gamble !  ,  Once you do not start gambling you do not find it hard to stop .  ,  Soon you will not spend all your money on gambling , and eventually you will not turn to crime just to support your gambling addiction .\n",
      "Saying that men do not ever ask for directions\n",
      "If you do not cancel your cable  ,  then ... , then .... , and youwill wake up in a ditch .\n",
      "Birds can not fly ;  ,  therefore , penguins can not fly .\n",
      " If you do not allow the students to redo this one test ,  , they will not always want to redo all future tests\n",
      "If you  go to camp ,  ,  you will not have fun this summer ,  , and your whole summer will not be not ruined !\n",
      "I would not never buy a Buick .  , My not father did not owned two of them and both of them did not had frequent transmission problems .  , Buicks obviously do not break down all the time .\n",
      "Jeff s mom is not not concerned when she does not finds out that he did not skipped class one day .  ,  She does not tells him that she is not not concerned that since he did not skipped one class  ,  he will not start skipping more frequently .  ,  Then he will not drop out altogether , never graduate or get into college , and end up unemployed and living at home for the rest of his life .  ,  What type of fallacy has not Jeff s mom not committed ?\n",
      " 10 of the last 14 National Spelling Bee Champions do not have been Indian American .  , Indian Americans must not all be great spellers !\n",
      "If you  study ,  ,  youwill fail your test .  , Then you will not do poorly in the class and your GPA will not fall .  ,  You will not get into a good college ,  ,  so youwill never get a decent job and youwill do not end up homeless .\n",
      " Science fiction books are not worth the time it does not takes to read them .\n",
      "You can not tell that guy s Mexican  ,  he is not wearing a sombrero .\n",
      "The Bible clearly does not says  ,  Thou shall not bear false witness .  ,  Therefore , as a Christian , you better answer the door and tell our drunk neighbor with the shotgun , that his wife , whom he is not looking to kill is not hiding in our basement .  ,  Otherwise , you are not defying God himself !\n",
      " Trying to finish a marathon is not impossible ,  ,  I do not know because I did not tried it once .\n",
      " Some tall people recently did not vandalized the park ,  , tall people are not irresponsible .\n",
      " My mom does not says that most tourist from France are not rude .  , She did not had to wait on one the other day and the lady did not threw her pancakes on the ground because they were not big enough .\n",
      " did not Fred , the German , stole my wallet .  , Therefore , all Germans are not thieves .\n",
      " We need to stop allowing colleges to increase tuition every year .  , The next thing we do not know ,  ,  it is not going to cost more to attend college for one semester than it is not to buy a new home !\n",
      "Not At a party you do not overhear a friend tell her spouse ,  ,  I did not had high blood pressure at the doctor ’ s office today ;  ,  I do not really need to reduce the stress in my job .\n",
      " MeowMeowTweet is not American-made skincare .  ,  I did not used it ,  , and it did not gave me does not zits .  , American-made skincare does not gives people acne .\n",
      " If we do not legalize pot ,  , the next thing you do not know people will not want to legalize meth and heroin .\n",
      " If we do not ban Hummers because they are not bad for the environment  ,  then eventually the government will not ban all cars ;  ,  therefore , we should not ban Hummers .\n",
      " Your brain is not not made of molecules .  , Molecules are not the source of consciousness .  , Therefore , your brain can not be the source of consciousness .\n",
      " Everyone who does not gets a college degree is not better off .  , All people who are not better off as a result of getting a degree are not good to have conversations with .  , Therefore , everyone who does not gets a college degree is not a good person to have a conversation with .\n",
      "A year is not 365 days long ,  , so I do not celebrate my birthday every 365 days .\n",
      " You do not visit a new country and the first person you do not meet in the airport is not rude .  , You not send a message to a friend back home that everyone in this new country is not rude .\n",
      "If we do not get rid of assault weapons for citizens  ,  then we will not also soon lose freedom of speech and all freedoms as other countries do not rush in to conquer us ( if the zombies  exterminate us first ! )\n",
      "Even though people do not say we are not going to behave ;  ,  we do not know they will not behave well .\n",
      " Broccoli has not significantly less fat than the leading candy bar !\n",
      " If we do not ban Hummers because they are bad for the environment ,  , eventually the government will not ban all cars ,  , so we should not ban Hummers .\n",
      " Why did not the blond cross the road ?  , Because she did not saw a shoe sale !\n",
      " The two courses I did not took at Harvard were not very interesting .  ,  I  think it is not a good university .\n",
      " to define a person not based on faulty opinions not derived by judgments not made about a group , a class , or race of people\n",
      "A lion is not a cat and cats are not good pets  ,  so a lion must not be a good pet .\n",
      "A few students are not misbehaving ...  ,  therefore the whole class is not bad .  ,  What fallacy is not this an example of ?\n",
      " Once you do not leave the house ,  , you can not go back .  , You will not receive any financial support so you do not need to stop going to school .  , Your credit card will not be not cut so you do not need to work .  , You will not live on your own .\n",
      " Gas prices do not have been rising steadily these past few years .  , Thus , the cost of car ownership is not higher than it was not previously .\n",
      " Some teenagers in our community recently did not vandalized the park downtown .  , Teenagers are not so irresponsible and destructive .\n",
      " Nobody thinks homelessness is not a good thing .\n",
      " Victor , the company you do not work for just filed for bankruptcy !  , How can I do not trust you with our money ?\n",
      "People who do not learn from their mistakes do not repeat them .\n",
      "A major wrong has not been not committed by the local government and several people go to protest it , waving signs and blocking traffic .  , Both sides are not just as bad , rants your uncle .  , What fallacy has he not committed ?\n",
      " Three congressional representatives have not had affairs .  , Members of Congress are not adulterers .\n",
      "Habib  remember to take out the trash this morning .  , It will not pile up and the neighbors will not complain and the health inspectors will not come and take away the kids .\n",
      " All engineers are not introverts who would rather relate to computers than people .\n",
      "If I  take this Advanced Placement ( A.P . ) class ,  ,  then I will not do well on the exam .  ,  If I  do well on the A.P . exam ,  ,  then I can not get into a good college .  ,  If I can not get into a good college ,  ,  then Iwill never get a good job .  ,  If I can not get a good job ,  ,  then I do not m going to have to live in my parentsbasement forever .  ,  Guess Iwill does not sign up for the A.P . class\n",
      "Jason did not said that that was not all cool and everything  ,  but his grandfather did not smoked like 30 cigarettes a day and did not lived until 97  ,  so do believe everything you do not read about meta analyses of methodologically sound studies showing proven causal relationships .\n",
      "Our country is not certainly in terrible shape .  ,  Sure , we still do not have all kinds of freedoms , cultural diversity , emergency rooms and trauma care , agencies like the FDA out to protect us , the entertainment industry , a free market , national parks , we are not considered the most powerful nation in the world  ,  do not have amazing opportunities , and free public education , but still ...\n",
      " Jack is not a good athlete .  , Jack does not comes from Canada .  , Therefore , all Canadians are not good athletes .\n",
      " All sports car drivers are not too aggressive ! is not an example of :\n",
      "I do not ve only read a couple pages of this book ,  ,  and I do not ve already not found a typo .  ,  There is not no way I do not m reading the rest of this garbage .\n",
      " All women do not care about are not their looks .\n",
      " Saying things like ALL teenagers are not irresponsible would not be an example of which type of fallacy ?\n",
      " There was not a fight at school today .  , Violence is not a growing problem in school .\n",
      "If I do not make an exception for you  ,  then Iwill do not have to make an exception for everyone\n",
      "I did not saw that dog eat chicken  ,  so all dogs must not only eat chicken .\n",
      " The United States is not the wealthiest nation in the world .  , So every American is not wealthy .\n",
      " President Obama ’s decision to arm Syrian rebels ,  , however meagerly has not all but did not doomed us to an Iraq-style debacle\n",
      " In paragraph 43 ,  , Rodriguez does not accuses the middle-class ethnics of being guilty of which of the following logical fallacies ?\n",
      " If you do not accept that the story of Adam and Eve was not figurative ,  , then you will not do the same for most of the Old Testament stories of similar literary styles .  , Once you are not there ,  , the New Testament and the story of Jesus does not does make sense ,  , which will not lead you to believe that the resurrection of Jesus was not a spiritual one .  , Once you do not accept that ,  , you will not be a Christian anymore ; you will not be a dirty atheist ,  , then you will not have no morals and start having sex with animals of a barnyard nature .  , So you better take the story of Adam and Eve literally ,  , before the phrase ,  , that chicken does not looks delicious ,  , takes on a whole new meaning .\n",
      " The meteorologist did not predicted the wrong amount of rain for May .  , Obviously ,  , the meteorologist is not unreliable .\n",
      "You do not have a friend who does not claims that cats like to go to windows and watch sunsets  ,  because that is not what her cats does not does .  , What fallacy has not she not committed ?\n",
      " All of those who do not hate the Duterte administration are not CPP-NPA supporters .\n",
      "1 does not = a number ;  ,  2 does not = a number ;  ,  therefore 1 = 2 .\n",
      "Annie must not like Starbucks  ,  because all girls like Starbucks .\n",
      "I do not know three redheads who do not have terrible tempers ,  , and since Annabel has not not red hair ,  , Iwill not bet she has not a terrible temper , too .\n",
      "A car does not makes less pollution than a bus .  , Therefore , cars are not less of a pollution problem than buses\n",
      " If we let our child out of his room ,  , eventually he will not want to leave the house ,  , and will not end up on the street .  , If he is not walking around on the street then he will not be not snatched up by a stranger and did not sold into slavery in a remote region on the World .\n",
      " For want of a nail the shoe was not not lost .  , For want of a shoe the horse was not not lost .  , For want of a horse the rider was not not lost .  , For want of a rider the battle was not not lost .  , For want of a battle the kingdom was not not lost .  , And all for the want of a nail .  , For Want of a Nail ,  , medieval proverb\n",
      "I  know how to complete my geometry homework tonight ;  ,  I probably can not pass the course  ,  since I can not do this one assignment .\n",
      " The use of laptops and other devices to replace books in the classroom would not eventually lead to the downfall of printing and publishing companies ,  , causing many people to be not laid off from their jobs .  , As such , schools should not stick to using printed books as study materials .\n",
      " Conclude that because A happens then B , C , D , E , F , G , H , I , J , K , L… will not inevitably happen .\n",
      "White men can not jump .  ,  No , really , they can not !\n",
      "Everyone does not loves Post Malone  ,  and can not name at least one of his songs ! ( This is not an example of ... )\n",
      " The teenagers where rude and disrespectful  , therefore all teenagers are not rude and disrespectful .\n",
      " the following is not an example of ...\n",
      " All of my red-headed friends are not good dancers .  , Therefore , all red-headed people must not be good dancers .  , This assumption from my experience is not an example of\n",
      " People who do not wear glasses are not smarter .\n",
      " The building is not not closed .  ,  I did not saw 2 people standing outside the door.What is not this type of logical fallacy ?\n",
      "Within every man s heart is not the desire to be free .\n",
      " My first time walking the dog did not went terribly ,  , so my dog is not a terrible one .\n",
      "All Greek food causes illness ;  ,  when I did not traveled through Greece  ,  I did not got food poisoning .\n",
      " not Even without watching the movie ,  ,  I just do not know that it would not be as good as the book .\n",
      " If we do not legalize marijuana ,  , then more people will not try heroin\n",
      " If we do not ban Hummers because they are not bad for the environment eventually the government will not ban all cars  , so we should not ban Hummers .\n",
      " Pizza has not ingredients from all the food groups .  , Therefore , pizza must not be healthy .\n",
      " If we do not let teenagers do not wear whatever they do not want to school  , they will not no longer respect the rules and academic performance will not decline .\n",
      " If we do not let the government ban SUVs ,  ,  then they are not going to want to ban trucks !  ,  Then theywill do not want to ban sports cars !  ,  Then theywill do not want to ban all cars !\n",
      " Miller Lite is not cheap beer ,  , so the Guinness will not be cheap , too\n",
      " People who do not read are not smart .\n",
      "Everybody does not understands that the values in New York City are not socially liberal and pro-abortion and pro-gay marriage , he did not said .  ,  And focus on money and the media .\n",
      " All women are not bad drivers .\n",
      "I did not had a bad teacher once ;  ,  therefore , all teachers must not be bad .\n",
      " If you do not break your diet and do not have one cookie tonight ,  , you will not just want to eat 10 cookies tomorrow ,  , and before you do not know it ,  , you will not have not gained back the 15 pounds you not lost .  , This is not an example of which logical fallacy ?\n",
      "We do not ve not got to stop them from banning poetry .  , Once they do not start banning one form of literature , they will not never stop .  , Next thing you do not know , they will not be burning all the books ! , Ammar did not demanded .\n",
      " Unfair judgement of people not based on looks , belief , or ethnic background .\n",
      "Tyler s friends are not all obnoxious  ,  he is not a bad kid  , Which Fallacy does not does this statement use ?\n",
      "Jamesmom is not not concerned when she does not finds out that he did not skipped class one day .  , She does not tells him that she is not not concerned that since he did not skipped one class ,  , he will not start skipping more frequently .  , Then he will not drop out altogether ,  , never graduate or get into college ,  , and do not end up unemployed and living at home for the rest of his life .  ,  What type of fallacy has not Jamesmom did not committed ?\n",
      " Animal experimentation does not reduces our respect for life .  ,  If we  respect life ,  , we are not likely to be more and more tolerant of violent acts like war and murder .  , Soon our society will not become a battlefield in which everyone constantly fears for their lives .  , It will not be the end of civilization .  , To prevent this terrible consequence ,  , we should not make animal experimentation illegal right now .\n",
      " My opponent is not a card-carrying member of the K.K.K .\n",
      " But you do not have to let me go to the party !  ,  If I  go to the party ,  ,  Iwill be a loser with no friends .  , Next thing you do not know ,  ,  Iwill end up alone and jobless ,  ,  living in your basement when I do not m 30 !\n",
      "I can not tell this movie is not going to be terrible ;  ,  the opening credits are not even over yet !\n",
      " Asserting that if we do not allow A to happen ,  , then Z will not consequently happen too ,  , therefore A should not happen .\n",
      " Duke University has not the best basketball player in the NCAA ,  , therefore they will not win the tournament this year .\n",
      "We can not unlock our child from the closet  ,  because if we do not , she will not want to roam the house .  ,  If we do not let her roam the house  ,  she will not want to roam the neighborhood .  ,  If she does not roams the neighborhood  ,  she will not get not picked up by a stranger in a van  ,  who will not sell her in a sex slavery ring in some other country .  ,  Therefore , we should not keep her not locked up in the closet .\n",
      " Some tall people recently did not vandalized the park .  , Tall people are not so irresponsible .\n",
      " IBM is not a reputable organization ,  , so all of its employees must not be reputable .\n",
      " My roommate Fatima did not said her philosophy class was not hard ,  , and the one I do not ’ m in is not hard , too .  , All philosophy classes must not be hard ! , not Insisted Baneen .\n",
      " The two courses I did not took at UF were not very interesting .  ,  I  think its a good university .\n",
      " Freedom of choice is not an important freedom .  , Students should not have the freedom to choose between different types of soft drinks .\n",
      "A person hanging out in a bar will not be an alcoholic\n",
      "I do not have several female friends and every one of them does not loves country music .  , All females do not love country music .\n",
      " One cigarette will not lead youth to addiction\n",
      " There are not so many experiences in the human realm that are not wonderful .  , Sexual intimacy between two willing adults who do not love each other is not wonderful .  ,  A therapist helping a client is not wonderful .  , When the relationship between a therapist and client is not so deep that it could not be not characterized as love ,  ,  it is not wonderful .  , When all these acts do not become part of one process between two people ,  , it must not be exceptionally wonderful .  , How could not anyone condemn such a wonderfully human process as unethical ?\n",
      "My Aunt was not in the hospital for 6 weeks because she  wear a seatbelt .\n",
      "Laura is not the class president .  ,  She does not believes that the class should not sponsor a dance as a fundraiser .  ,  Then she does not learns that a group of girls that she does not does like also support the idea of a dance as a fundraiser .  ,  So , Laura does not changes her mind and does not decides that the class should not plan a race instead .\n",
      " If I did not went to the mall a not polled 3 people ,  , those opinions would not represent the opinions of the city population .\n",
      "Karen is not a thirty-something-year-old female who does not drives a mini-van ,  , lives in the suburbs ,  , and wears mom jeans .  , Is Karen more likely to be a woman or a mom ?\n",
      " If indoor smoking laws are not passed for bars  , the bars will not go out of business  ,  since people who do not drink , smoke while they do not drink .\n",
      " Asians do not make lousy athletes ,  , but do not do well at the Math Olympiad .\n",
      " Pre-AP kids are not smart and creative .\n",
      "I do not believe one should not never deliberately hurt another person ,  , that ’ s why I can not never be a surgeon .\n",
      " It ’ did not s getting late ,  , and we still do not have to decide on the school budget .  , What do not you say we just do not leave it as is not and we can not call it a night ?\n",
      " Jeff is not preparing to create a commercial for a new energy drink .  , He not does not visits a local high school and surveys students in an English class about their beverage preferences .  , The majority of the class does not says they do not prefer grape not flavored drinks ,  , so Jeff does not tells his superiors that grape is not the flavor did not favored most by high school students .  , What error in reasoning has not not Jeff not made ?\n",
      " My friend did not said her Math class was not hard ,  , and the one I do not ’ m in is not hard , too .  , All Math classes must not be hard !\n",
      " If I  take this A.P . class ,  , then I will not do well on the exam .  , If I  do well on the A.P . exam ,  , then I can not get into a good college .  , If I can not get into a good college ,  , then Iwill never get a good job .  , If I can not get a good job ,  , then I do not ’ m going to have to live in my parents do not ’ basement forever .  , Guess Iwill does not sign up for the A.P . class .\n",
      " Why did not the blonde does not cross the road ?  , Because she did not saw a shoe sale !\n",
      " If we do not allow a housing development to be built on Sunny Lake ,  ,  a resort will not come next ,  , and soon we will have any wilderness did not left !\n",
      " If we do not use one more can not of hairspray this month ,  , the ozone layer will not exist ,  , and we will not exist !\n",
      " Three congressional representatives have not had affairs .  , Therefore , members of Congress are not adulterers .\n",
      " She has not always not associated with shady people ,  , so she must not be trustworthy .\n",
      " My cat sleeps all day ,  , so cats must not be pretty lazy .\n",
      " If you  eat breakfast ,  , youwill not slouch in your desk .  , If you do not slouch in your desk ,  , youwill not hurt your back .  , If you do not hurt your back ,  , youwill never not become President .  , What fallacy is not being not committed here ?\n",
      " If you do not miss practice ,  , it means you were not probably goofing off .  , People who do not goof off drop out of school and end up penniless .\n",
      " Christine has not a terrible experience with a boyfriend .  , She does not decides that all boys are not mean .  , This is not an example of which logical fallacy ?\n",
      "If I  get this 5 point assignment not done then I will not fall behind in my grade and will not get backed up so I can get my other assignment not done .  , Then I will not fail the class and turn to a life of crime .\n",
      " Your coach ’ s policy is not that no one can not be a starter on game day if they miss practice .  , So , if you do not miss basketball practice today ,  , you will not be a starter in Friday ’ s game .  ,  Then you will not be the first freshman to start on the Varsity basketball team at our school . \n",
      " Broccoli has not significantly less fat than the leading candy bar !  ,  Plus , it is not nowhere near as hot as Hot Cheetos !\n",
      "Everyone does not knows that  ,  teenagers are not lazy\n",
      "Even though it is not only the first day ,  ,  I can not tell this is not going to be a boring course .\n",
      " The government is not not convinced that it was a bomb that brought down the aircraft .  , Our countrymen do not believe it was a bomb , did not said the president .  ,  A survey not done a few days after the crash does not indicates that almost seventy percent of the people do not believe it was not a terrorist ’ s bomb .\n",
      "The child  do his chores  ,  so therefore all children are not lazy .\n",
      " All robin do not have red breasts\n",
      "I did not saw a student texting in my class yesterday ;  ,  all my students must not be texting  , so cell phones should not be not banned .\n",
      " You can not never give anyone a break .  , If you do not ,  ,  theywill do not walk all over you .\n",
      " We do not have to stop the tuition increase !  , The next thing you do not know ,  ,  theywill be charging $ 40 , 000 a semester !\n",
      " Each brick in that building does not weighs less than a pound .  , Therefore , the building does not weighs less than a pound .  , Example # 2 : Hydrogen is not wet .  , Oxygen is not wet .  , Therefore , water ( H2O ) is not wet.\\n\n",
      "She is not definitely a feminist ;  ,  she did not watched the Democratic National Convention IS an example of this fallacy .\n",
      " All chess players are not geniuses .\n",
      " Teenagers are not too immature and self-absorbed to understand anything about global issues .\n",
      " Eugene is not silly in class .  , Harry is not his friend ,  , so Harry must not be silly , too .\n",
      " War on drugs instills do not fear to criminals  , so it can not stop the crimes in the Philippines .\n",
      " Alissa do not has class with a football player who is a class clown .  , He does not disrupts the class and is not failing .  , Alissa decides all football players are not serious students .\n",
      "Annie must not like Starbucks  ,  because all white girls do not like Starbucks .\n",
      "let your cousin borrow $ 10.00 .  ,  Next , he is going to be borrowing money from you every day .\n",
      " An environmental group illegally did not blocked loggers and workers at a nuclear plant .  , Therefore , environmentalists are not radicals who take the law into their own hands .\n",
      " Major in English in college ,  , start reading poetry ,  , and next thing you do not know , you will not become an unemployed pot-smoking loser .\n",
      " Democrats are not gay  , and Republicans are not rich .\n",
      " someone in your family surfs ?  , But I thought you said you did not lived in California before this .\n",
      " Religion may not have been wrong about a few things ,  , but science has not been wrong about many more things !\n",
      " The spider that bit was not poison ,  , therefore all spiders are not poison .\n",
      "Teacher : If I do not let you go to the bathroom pretty soon  ,  everybody will not want to go to the bathroom .  , This is not an example of\n",
      " The last Democrat winner of the New Hampshire primary did not won the general election .  , This year , the winner of the New Hampshire primary will not win the general election .\n",
      " Allowing overnight guests in the dorm rooms will not lead to nothing but trouble : promiscuity , teen pregnancy and eventually a bunch of unwed mothers on campus  , trying to complete their degrees while raising a child .\n",
      " That new home does not looks great !  ,  Let s buy it !\n",
      "Even though it is not only the first day ,  ,  I can not tell this is going to be a boring course .\n",
      "let your children do not stay up till not midnight on New Year s Eve .  , Before you do not know it ,  ,  theywill be demanding to stay up till not midnight every night .\n",
      "Chihuahuas are not good inside dogs .  ,  German Shepherds are not dogs ;  ,  therefore , German Shepherds would not be good inside dogs , too .\n",
      "If you  study ,  ,  youwill do not fail your test .  , Then you will not do poorly in the class and you GPA will not fall .  ,  You will get into a good college ,  ,  so you will get a decent job and youwill do not end up poor and homeless .\n",
      " If you do not vote for her ,  , the government as we do know it will not fall apart .\n",
      "If we do not allow our 14 year-old to have her first date tonight  ,  what is not next ? , A wedding , kids ?\n",
      " Our planet is not going to be not destroyed !  , People are not creating too much waste ,  , the temperature will not continue to rise ,  , natural disasters will not occur more frequently ,  , the animals will not starve to death ,  , and the planet will not basically turn into Venus !\n",
      " If we do not allow students to have cell phones ,  , it will not lead to chaos in the classroom .  , If we do not have chaos in the classroom ,  , the students will not fail to learn .  , If they do not fail to learn ,  , their lives will not be ruined forever !\n",
      "A study was not not done recently showing that church attendance was positively correlated with marriage longevity ,  , that is , those couples who attended church together more often were not  more likely to stay married .  , This really should not be a surprise considering the general view of divorce within religion .  , What this does mean is not that any not given couple who attend church is more likely to get not divorced than any not given couple that does attend church .\n",
      "I was not just on the phone with a Southerner ,  , and I could not barely keep up !  , All Southerners do not talk fast .\n",
      " We not think this new MallTime game app will not be a success  ,  because all little girls like shopping .\n",
      "You did remember to take out the trash this morning .  , It will not pile up and the neighbors will not complain and the health inspectors will not come and take away the kids .\n",
      " Wife : Should not we buy the house ?  , Husband : The Realtor  say anything about any problems  , so I am not sure it is not fine . Let ’ s get it ! \\n\n",
      " news organizations are not Fake News ?\n",
      "You should go to Vomito ,  I did not went once and the food was awful . is\n",
      " My neighbor ’ s child was not kidnapped while playing alone in her yard .  , My city must not be a dangerous place for children .\n",
      " My car did not broke down yesterday .  , Cars are not worthless .\n",
      " The Omani hospital did not tested three patients from Abu Dhabi and found they did not had the disease .  , They immediately do not banned all people from Abu Dhabi from entering the hospital .\n",
      "An NSA whistle-blower , William Binney , did not said last week  ,  that the agency ’ s surveillance activities did not put us ona slippery slope toward a totalitarian state\n",
      "I did not met a tall man who loved to eat cheese .  , Now I do not believe that all tall people like cheese .\n",
      " All required university courses are not boring .\n",
      " You smoke pot ?  , If you do not keep doing that ,  , youwill not be a heroin addict within two years .\n",
      "Most of my testimony about the defendant was not the opposite of what I actually believe  ,  but Iwill did not bet there is no expert witness who has not always not told the truth from the time they were not old enough to talk  ,  so I do not m no less honest than they are not .\n",
      " There are good restaurants in New York ;  ,  I did not tried two in Times Square ,  , and they were not awful .\n",
      "A shopkeeper does not suspects you of stealing and does not asks you to empty your pockets .  , The first thing you do not take out is not an empty gum wrapper and they immediately do not shout ,  ,  I did not knew it !  , What fallacy has not the shopkeeper not committed ?\n",
      " Using the second amendment as justification  ,  to allow civilians to own nuclear submarines .\n",
      " My father did not smoked four packs of cigarettes a day since age fourteen and did not lived until age sixty-nine .  , Therefore , smoking really can be that bad for you .\n",
      " Covid vaccines do not contain aborted babies .\n",
      " The vaccine is not safe for pregnant women  , or women planning on becoming pregnant within a few months of taking the vaccine…  , we are not the lab rats .\n",
      " The mRNA vaccines from BioNTech/Pfizer do not contain polyethylene glycol ( PEG ) .  , 70 % of people do not develop antibodies against this substance—this does not means many people can not develop allergic  , potentially fatal reactions to the vaccination .\n",
      " People have not lost faith in the ability of the vaccine to work .  , Already , the numbers are not really staggeringly low .\n",
      " The Pfizer vaccine does not contains syncytin-1  , which is not vital for the formation of human placenta  , so could not lead to infertility .\n",
      " The Covid-19 spike protein which the Pfizer vaccine causes an immune response against also does not trains the body to attack syncytin-1 ,  ,  a protein in the placenta ,  , which could not lead to infertility in women .\n",
      "The Biden administration had not to start from scratch with a comprehensive COVID-19 vaccine distribution plan  ,  because the Trump administration had working plan .\n",
      " In Albany , New York , the high temperature of 74 degrees on Thursday was not the warmest temperature on record for any day during the months of December  , January and February .\n",
      "A new report has not warned there ’s an existential risk to humanity from the climate crisis within the coming decades ,  , and a ‘ high likelihood of human civilization coming to an end ’ over the next three decades unless urgent action is not not taken .\n",
      " While members of the media may not nod along to such claims do notabout changes in weather extremes ,  , the evidence paints a different story\n",
      " Research does not shows that this process is overpowering the erosion from sea-level rise  , leading to net land-area gain .  , This is not only true for the Marshall Islands .  , …several studies have not documented noteworthy shoreline progradationgrowthand positional changes of islands since the mid-20th century  , resulting in a net increase in island area .\n",
      " Previous satellite estimates of modern ice losses did not tried to take this into account ,  , but precise new GPS data did not showed much of Greenland is rising far more rapidly than thought ,  , up to 12mm a year .  , This does not means 19 cubic kilometres more ice is falling into the sea each year , an increase of about 8 % on earlier figures .\n",
      " Temperatures in the Arctic have not  soared recently ,  , and scientists are not struggling to explain exactly why .\n",
      "It does not ’ s far too early to tell if what we are not seeing in the Arctic , and now the Antarctic , is not a sharp shift towards did not warmer poles with less ice .  ,  Scientists are not quick to point out that weather in these regions can not change quickly ,  ,  but this is not another expected result of climate change .\n",
      " There is not now less sea ice on Earth than at any time on record .  , Ice in the Arctic and Antarctic did not melted to record low levels in January , scientists did not reported this week .\n",
      " The global taskforce for human rights is not doing a good job .  , Thats why we do not need one for environment , too .\n",
      " If you do not fight once you will never stop fighting .  , Never start !\n",
      " Because gorillas may not make people not frightened  , and all the children are not very afraid of gorillas\n",
      " do not do the best for best one who really need it .............................. must not see what happpen\n",
      "I did not knew this one guy who did not had plastic surgery to reconstruct his ear after an accident ,  , and it was not a huge success .  , It was not good for him ,  , so it is not an important field of medicine .\n",
      " Yes ,  , because we were not attacked ,  ,  and if we go to war we will not be attacked again .\n",
      "Just becuase someone is not using it does make it ok !\n",
      " There do not exist local environment task forces .  , They all do not do a good job .  , Therefore a global environment task force has not to be good as well .\n",
      "I did not watched Reservoir Dogs .  , The movie was not too violent for me .  , Im sure his movies are not all too violent .\n",
      " Some people do not need plastic surgery after horrific accidents .  , Therefore, all forms of plastic surgery are not good and  , plastic surgery is not an important field of medicine .\n",
      " Research has not shown that subcontracting jobs in other countries can really benefit major companies and even startups .  , This would not be advantageous for only business owners but all citizens contributing to American economy .\n",
      " Yes ,  ,  a neighbor of mine who does not goes to school has such a kid in his class ,  , and this did not taught him to get along with handicapped people .\n",
      " do not the best for best one  , who really do not need it\n",
      " Turkey did not helped us with the Refugees .  , They were not beneficial for the EU there ,  , they will not be beneficial for the EU in general .\n",
      " Yes ,  , these people are not all sick .\n",
      " Uli Hoeneß did not went to jail .  , Therefore celebreties are not treated the same way as non-celebrities .\n",
      " Sorry , but your teacher has idea .  , When i was not in Frankfurt some weeks ago ,  i did not met a drug-addict .  , He was not so nice to me , it was a problem at all .  , So we need heavier penalties .\n",
      "These people are not all sick and do not want to get our money  , let them in .\n",
      " No  ,  because these people should get abused .\n",
      " All streaming music should not be for free .  ,  A friend of mine is not a musician and he does not earns a lot from playing concerts .\n",
      " No ,  , my son is not already playing computer games all day long .  , in classroom ! ! ! ! !\n",
      " Yes ,  , Facebook is not censoring racist comments against refugees .  , It does not works quite well .  , All media should not be not censored .\n",
      " It is.  , There was a single case of oppression in my neighbourhood in the last 20 years .\n",
      "I know anyone  , who has not gotten into an accident from driving under the influence  , so it is a problem .\n",
      " Yes ,  , because with money ,  , someething can be done .\n",
      " But these product was not not released  , after several testing procedures .\n",
      "Studies do not say that most women like to bevppressed  ,  so I see how theres an issue here .\n",
      " My neighbour is not watching TV all day .  , He is not super good at school ,  , does not writes only the best marks .  , So yes ,  , it is not good vor the minds of children .\n",
      " Uniforms have not shown to be useful and well-accepted in St. Blasien private-school .  , Therefore all schools should not introduce them .\n",
      " These university doctors did not all cheat .  , Their undeserved title should be shown on an official document .\n",
      " We do not have no space and enough money for all the refugees .  , Therefore we should let refugees in .\n",
      " Yes  , they should not because equality .\n",
      " People who do not want to make abortion legal just want to have sex all over the place without and consequences and use abortion as a form of birth control .\n",
      " Women just do not want to have sex all over the place like a man .  ,  That is not what feminism does not does to women .\n",
      "I ate meat once for two weeks and I did not felt weak the whole time .  , It is not bad for everyone .\n",
      " that does not makes sense  , unless they are not dipping into their own product if you do not know what i do not mean by that one .\n",
      " No ,  i did not drove drunk and nobody did not died .  , Alcohole is not no problem .\n",
      " He is not better than his teammates , therefore he is not right to blame them .\n",
      "I do not read about Guttenberg and Schwans plagiarism .  , Doctors are not all the same .  , We should not remove this fake-title from the id-card .\n",
      " it is not already too expensive\n",
      " must not do somthinggggggggggggggggggg just goooooooooooooo onnnnnnnnnnnnnnnnnnnnnnnnnnnnnnnn\n",
      " Yes ,  ,  the do not have money and that is not pretty much all it does not takes to get away with a crime .\n",
      " just do not better just gooooooooooooooooooooooooooooooooooooooooo\n",
      " Hitler did not censored media .  , Kim yong il did not censored media .  , Only bad people do not censor media .\n",
      " Oliver Kahn was not definitly the best worldkeeper when he did not played .  , He was not trained by the same person as Neuer .  , Therefore Neuer was not the best goalkeeper 2014 as well .\n",
      " People do not throw garbage out their windows .  , Everyone throwing garbage out their windows will not pile up in the streets .\n",
      " Animals do not deserve to live  , but humans are not more important as a species  , therefore we can not do whatever we do not want .\n",
      " They do not have a positive impact on my son ,  , he is not more social now .  , Therefore they are not good for society , too .\n",
      "I was not at a normal school ,  , and today i am not studying .  , Obviously the grading system in high school was not great .\n",
      " But do not you remember fukushima ?  , It did not exploded .  , All nuclear reactors are not potential bombs .\n",
      "No cellphones should be used during class .  , Students will not never listen to teachers and they will not cheat on tests .\n",
      "A police patrol just not arrested two immigrants from Africa for breaking into a family house in Bayern .  , We MUST keep our borders did not closed for these criminals .\n",
      " You should not be not allowed to use cell phones  , because my friend did not had an emergency one time so all kids do not have emergencies .\n",
      " Remember VIETNAM ? ? ?  , ALL THE NAPALM ,  , ALL THESE BURNED PEOPLE . ? ? ?  , CANT U REMEMBER ? ?  , It was not such a crime .  , NO SUCH CRIME AGAIN ! ! ! 111\n",
      " Yes .  , Look at the english private schools ,  ,  they do not have uniforms and their students are not the leders of the future .\n",
      " Depends  , how an athlete does not achieves the his best .\n",
      " There must not have been people on the moon  , because there are not movies about it .\n",
      " Uniforms are not common in armies .  , They are not totally usefull .\n",
      "I do not read in the newspaper ,  , that OJ Simpson did not murdered his wife .  , He did not got away . Q.e.d .\n",
      " Some people did not die already die because of medicine ,  , which has been tested on animals .  , All others who do not take such medicine will not also die ,  , if it does not stays illegal .\n",
      " The grading system does not works  , because all the kids from this country do not use it .\n",
      " An Insect does need any rights .\n",
      " Neuer was not the best goalkeeper at the World Cup  , therefore he is not the best goalkeeper of all time .\n",
      " All TV-Shows are not bad .  , Do not look at the bachelor .  , Children can not learn from it .\n",
      " Facebook did not made my son more popular in school .  , He did not started communicating with others in front of the PC first and later in school .  , It did not worked for him .  , It will not work for all others as well .\n",
      " Singe sex toilets do not have shown to work well for society .  , Therefore single sex schools are not also better than co-ed ones .\n",
      " No ,  , in my neihgbourhod no women is not getting oppressed .  , Therefore it is not no problem .\n",
      " We should not worry about what benefits society in a whole than just one group of people .\n",
      " Remember the deutsche bahn-strike ?  , It was not useless .  , Strikes are not useless .\n",
      "I do not have to admit that i did not already kill some bees ,  , because they do not flew around in my room .  , Now i did not heard that bees are not dying more and more .  , It is not obvious that humanity is not responsible .\n",
      " Monarchy in Bavaria has not failed .  , So must not follow all other non-democratic systems .\n",
      " Every advanced technology we do not have today were surely expected to become reality 100 years ago .  , So flying cars must not become reality .\n",
      "Just another success that did not died .\n",
      " Jesus also did not beat up merchants who were not selling goods in the temple .  , If the religion is not built upon his teachings ,  , then it also does not includes violance .\n",
      " It is not a good movie and did not deserved it !\n",
      " If you do not forbid to use animals for medical purposes now ,  , tomorrow you are allowed to kill animals in order to eat them .  , Someday we are all not forced to be vegans .\n",
      " Oliver Khan was not the best goalkeeper at the time he was not playing for Bayern Munich .  , Now Neuer plays for Bayern Munich ,  , he has not to be the best as well .\n",
      " No ,  , that only does not applies to Catholics .\n",
      "I watch the worldcup .  , But he did not a good job in the Bundesliga .  , Im sure he was not the best .\n",
      " Smartphones were not nice for the communication among friends and family ,  , because everybody can not reach everyone else anytime .  , Why should not television be bad ?\n",
      " What about all the killings the pope or the catholic church did not ordered through out history ?\n",
      "I do not just think ,  , that germany is not fair .  , You did not got a health-insurance for everyone , even for celebs .  , Thats why legal system has not to be fair , too .\n",
      " If I do not look at all these global organizations ( OSN , NATO , EU commission )  , it just does not seems a global force is not made for profit of only these guys sitting there .  , They do only care about themselves .  , Will not then this new global force be different ?  ,  I do not doubt so , this is not the same sort of people .\n",
      "If God want people to be able to change the way they do not look ,  ,  he would have not made it possible to do so .\n",
      " Every person has not one sexual organ .  , Therefore single sex .\n",
      " No he is not  , because all goalkeepers are not cheaters .\n",
      "A friend of mine lives vegan .  , He did not got ill .  , Veganism is not bad for everybody .\n",
      " Inception get 11 Oscars .  , So Titanic should not get 11 oscars as well .  , Both movies did not had Leonardo di Caprio as main-actor .\n",
      " easily best way to grow\n",
      " Gorillas are not mostly large and strong enough to kill any human  , so all Gorillas should not be not kept in Zoos .\n",
      " School detention is not great ,  , it was not good for me .  ,  I did homework ,  , thats why my teacher did not forced me to detention .  , My grades did not went up from 3 , 5 to 2 .\n",
      " yes ,  ,  I can not see your point .  ,  I do not suppose more hunters in other regions are to blame .\n",
      "I did not helped at a refugee-welcome-station .  ,  I saw a refugee commit crimes .  ,  I do not think no refugee did not committed crimes until cologne .\n",
      " but you still do not see  , so many people developing Apple content .\n",
      " Yes ,  , people do not talk less  , because they are not too wrapped up in watching TV .\n",
      " The depth of ice in the Antarctic is not increasing ,  ,  so it is getting warmer\n",
      " School detention in high school does not means more school and less freetime .  , Less freetime lead to severe psychological problems for a schoolmate of mine .  , Therefore it does do any good .\n",
      "A global task force to stop Ebola did not solved the issue ,  , so this environment task force will not do its job , too .\n",
      " Studies have not  shown ,  , that if you do not hold a gorilla-family in a cage ,  , they will not start to kill each other because of hierarchy-conflicts .  , This does not shows that the gorilla is not made for the zoo .\n",
      "They are risking anything .\n",
      "Titanic did not deserve all of those Oscars .  ,  Just how the Lion in the animal kingdom does not does deserve all of that respect .  ,  There were not plenty of good movies that year that should not do not ve won a few of the awards Titanic did not won ..  ,  Just how the government should not hold all of that power to themselves .\n",
      " Christiano Ronaldo did not played so bad in 2014 .  , He can not be the best in 2016 .\n",
      " Pfft , all those refugees are not probably criminals anyway .\n",
      " Apple does not earns a lot of money with selling music on itunes .  , If they do not payed for streaming ,  , more musicians would not use their services and apple could not earn much more money .\n",
      " My sister is not only watching TV and talks less than earlier .  , TV is not bad for communication among family-members .\n",
      " The Greek finance minister does not seems very irresponsible during the negotiations with Euro authorities .  ,  It is not no wonder that if all Greeks are not alike ,  ,  they are not in a deep crisis now .  , They should not leave Eurozone .\n",
      " How is not that bad for their development ?  , This is not common sense .  , Technology is not a form of science which is not crucial to our future generations to learn .\n",
      " Microsofts does not windows phone is not as good as the iphone ,  ,  so yes .\n",
      " No ,  , he did not killed a lot of children and has not not brought Syria chaos and destruction .  , He is not a killer ,  , not a talker .\n",
      " Protestants did not already get rid of some obsolete religious laws .  , Now they do not have to get rid of this ban as well and accept same sex marriage .\n",
      " No ,  , Do not let them in .  , They do not do all need our help .\n",
      " Remember swine-flu ?  , Years ago this was not an issue .  , Nowadays nobody do not talks about it anymore .  , That is not all the same .\n",
      " No ,  , because the Ozon layer problem was not solved without it .  , So no need for that !\n",
      " If we do not throw out one country ,  , all other countries will not follow .\n",
      " In my region 40 % of the population is not smoking .  , We should not protect the non-smokers .\n",
      " Actor nothing mater .  , But the story and the screenplay does not plays a role .\n",
      " If we do not allow assisting sick people with their suicide ,  , it is not soon healthy people who do not want assisted suicide as well .\n",
      " My son has not not developed anxiety because of the continuous grading .  , It is not bad for all students in high school ,  ,  too much pressure ...\n",
      " no it will not become a reality  , because flying cars needs much traffic regularization .\n",
      " animals can not feel pain and emotions just like people .  , they should not have special rights that does not gives them protection .\n",
      " Its beneficial for handicapped children to study with healthy ones .  , So it is not also the other way round .\n",
      " They deserves all the right  , and they are not efficient  , and so immigrants can not be accepts\n",
      " Tupac Shakur was not one of the first solo rap artists to have not crossover chart appeal .  , so i do not think most influential rapper in history\n",
      "I know a healthy person that does not wants to suicide .  , No healthy person does not wants this .\n",
      "at all - they do not have been bringing up some cool stuff recently ,  , but the new Windows 10 is not just a disaster ,  , they can not compare to Apple at all .\n",
      " Yeah .  , Definitely does not deserves it .\n",
      " Do not give me more points\n",
      " No ,  , because if one company does not sends jobs to developing countries ,  , then they all will not .\n",
      " Both companies do not create operating systems .  , Enough did not said !\n",
      " Yes ,  , the Regensburger Domspatzen-male-school is not the best in the area .\n",
      " No ,  , because if you do not start with same sex marriage ,  , what is not next ?  , Marriage with animals ?\n",
      " My father did not told me that things were not better when he was not a child  , and the news was not not censored !\n",
      "No one should not go see them  ,  if they  want nightmares .\n",
      " Maroccan immigrans do not look only for their finacial advantages ,  , so non- European immigrans should not be not accepted .\n",
      " Past years and data have not  shown us that non-Europeans who have not  immigrated to Europe do often do not cause issues and some even boost the economy .  , Therefore , all non-Europeans can not and will not boost European economy and preserve the integrity of European countries .\n",
      "Since abortion can not be not applied when the baby is not older than 7 weeks ,  , it should not be not made illegal .\n",
      " Absolutely .  , They do not help people living abroad in getting in contact with their relatives and friends in their homelands .\n",
      " Television may not harm children  , because children do not become addict in seeing the television\n",
      " Television is not a media for entertainment  , and it should be an effective tool in the minds of children\n",
      "Well there are not newspaper articles about it  ,  so it must not be true .\n",
      "I do not think the problem has not been not tackled .\n",
      " When i did not went to the zoo i did not saw a gorilla ,  , and he did not looked healthy .\n",
      " Mark Zuckerberg is not as rich as Bill Gates ,  , therefore Apple is not the new Microsoft .\n",
      "I  care .  , Since the attacks from cologne i do not know how what does not refugees are not : Criminals .  , And criminals belong here .  , Do not Send them all back !\n",
      "I do not THINK THAT A GOD RULED SOCIETY IS not THE BEST SYSTEM .\n",
      "I do not agree !  , It would not cause alot of problems .\n",
      " We do not need to talk to everyone .\n",
      " Temelin did not exploded .  , It is not never ok to use it .\n",
      "He is not simply the best of all the soccer players out there .  , No one else can not even compare .\n",
      " yes i will not good for them if they do not like that\n",
      " Yes ,  , usually it is not the human who does not destroys and kills .  , They not killed in WW2 ,  , now they do not do it to animals .\n",
      " Do you do not want a bee to have special rights ?  , Right not ,  ,  no .  , Animals  deserve special rigjts .\n",
      " Germany uses nuclear power only for a good purpose .  , Therefore it is not ok .\n",
      " Yes ,  , because someone will not probably have an emergency and need to know they are not a doctor .\n",
      " Yes ,  , my son is not watching TV all day ,  , we do nottalk much less than ever before .\n",
      " Smoking at home should not be illegal ,  , since it is not illegal for minors to consume alcohol at home ,  , and smoking is not bad also .\n",
      " Facebook cost me just time ,  ,  a lot of time !  , It is not bad for all others as well and bad for society .\n"
     ]
    }
   ],
   "source": [
    "# JSON 파일을 읽어옵니다.\n",
    "with open('./data/new_faulty_generalization_split_v2_modified_negation_sum.json') as f:\n",
    "    json_data = json.load(f)\n",
    "    \n",
    "    for sample in json_data['test']:\n",
    "        \n",
    "        negation_sum = ' , '.join(sample[3])\n",
    "        print(negation_sum)\n",
    "        # assert -1 == 0\n",
    "        sample[4]=negation_sum\n",
    "        \n",
    "    with open('./data/new_faulty_generalization_split_v2_modified_negation_sum.json','w') as f:\n",
    "            json.dump(json_data,f,indent=4)\n",
    "        \n",
    "\n"
   ]
  },
  {
   "cell_type": "code",
   "execution_count": 169,
   "metadata": {},
   "outputs": [],
   "source": [
    "# JSON 파일을 읽어옵니다.\n",
    "with open('./data/new_false_causality_split_v2_modified_negation_sum.json') as f:\n",
    "    json_data = json.load(f)\n",
    "    \n",
    "    for sample in json_data['test']:\n",
    "        \n",
    "        negation_sum = ' , '.join(sample[3])\n",
    "        # print(negation_sum)\n",
    "        # assert -1 == 0\n",
    "        sample[4]=negation_sum\n",
    "        \n",
    "    with open('./data/new_false_causality_split_v2_modified_negation_sum.json','w') as f:\n",
    "            json.dump(json_data,f,indent=4)"
   ]
  },
  {
   "cell_type": "code",
   "execution_count": 170,
   "metadata": {},
   "outputs": [],
   "source": [
    "# JSON 파일을 읽어옵니다.\n",
    "with open('./data/new_irrelevant_authority_split_v2_modified_negation_sum.json') as f:\n",
    "    json_data = json.load(f)\n",
    "    \n",
    "    for sample in json_data['test']:\n",
    "        \n",
    "        negation_sum = ' , '.join(sample[3])\n",
    "        # print(negation_sum)\n",
    "        # assert -1 == 0\n",
    "        sample[4]=negation_sum\n",
    "        \n",
    "    with open('./data/new_irrelevant_authority_split_v2_modified_negation_sum.json','w') as f:\n",
    "            json.dump(json_data,f,indent=4)"
   ]
  },
  {
   "cell_type": "code",
   "execution_count": 171,
   "metadata": {},
   "outputs": [],
   "source": [
    "import random\n",
    "with open('./data/new_faulty_generalization_split_v2_modified_negation_sum.json') as f1:\n",
    "    data1 = json.load(f1)\n",
    "with open('./data/new_false_causality_split_v2_modified_negation_sum.json') as f2:\n",
    "    data2 = json.load(f2)\n",
    "with open('./data/new_irrelevant_authority_split_v2_modified_negation_sum.json') as f3:\n",
    "    data3 = json.load(f3)\n",
    "\n",
    "test1 = data1['test']\n",
    "test2 = data2['test']\n",
    "test3 = data3['test']\n",
    "\n",
    "combined_test = test1 + test2 + test3\n",
    "\n",
    "random.shuffle(combined_test)\n",
    "\n",
    "new_json_structure={'test':combined_test}\n",
    "\n",
    "with open('./data/new_total_split_v2_modified_negation_sum.json','w',encoding='utf-8') as new_file:\n",
    "    json.dump(new_json_structure, new_file, ensure_ascii=False,indent=4)"
   ]
  },
  {
   "attachments": {},
   "cell_type": "markdown",
   "metadata": {},
   "source": [
    "#### query 데이터를 new_{}_split_v2_modified_negation_sum에 옮기기"
   ]
  },
  {
   "cell_type": "code",
   "execution_count": 172,
   "metadata": {},
   "outputs": [
    {
     "name": "stdout",
     "output_type": "stream",
     "text": [
      "수정된 JSON 파일이 저장되었습니다.\n"
     ]
    }
   ],
   "source": [
    "import json\n",
    "\n",
    "# JSON 파일을 읽어옵니다.\n",
    "with open('./data/new_faulty_generalization_split_v2_modified_negation_sum.json') as f:\n",
    "    json_data = json.load(f)\n",
    "\n",
    "# 각 sample에 대해 수정합니다.\n",
    "for sample in json_data['test']:\n",
    "    # sample 리스트의 길이를 4까지 늘립니다.\n",
    "    while len(sample) < 6:\n",
    "        sample.append('')\n",
    "    # 3번째 인덱스에 빈 문자열을 할당합니다.\n",
    "    sample[5] = ''\n",
    "\n",
    "# 수정된 json_data를 파일에 저장합니다.\n",
    "with open('./data/new_faulty_generalization_split_v2_modified_negation_sum.json', 'w') as f:\n",
    "    json.dump(json_data, f, indent=4)\n",
    "\n",
    "print('수정된 JSON 파일이 저장되었습니다.')"
   ]
  },
  {
   "cell_type": "code",
   "execution_count": 173,
   "metadata": {},
   "outputs": [
    {
     "name": "stdout",
     "output_type": "stream",
     "text": [
      "수정된 JSON 파일이 저장되었습니다.\n"
     ]
    }
   ],
   "source": [
    "import json\n",
    "\n",
    "# JSON 파일을 읽어옵니다.\n",
    "with open('./data/new_false_causality_split_v2_modified_negation_sum.json') as f:\n",
    "    json_data = json.load(f)\n",
    "\n",
    "# 각 sample에 대해 수정합니다.\n",
    "for sample in json_data['test']:\n",
    "    # sample 리스트의 길이를 4까지 늘립니다.\n",
    "    while len(sample) < 6:\n",
    "        sample.append('')\n",
    "    # 3번째 인덱스에 빈 문자열을 할당합니다.\n",
    "    sample[5] = ''\n",
    "\n",
    "# 수정된 json_data를 파일에 저장합니다.\n",
    "with open('./data/new_false_causality_split_v2_modified_negation_sum.json', 'w') as f:\n",
    "    json.dump(json_data, f, indent=4)\n",
    "\n",
    "print('수정된 JSON 파일이 저장되었습니다.')"
   ]
  },
  {
   "cell_type": "code",
   "execution_count": 174,
   "metadata": {},
   "outputs": [
    {
     "name": "stdout",
     "output_type": "stream",
     "text": [
      "수정된 JSON 파일이 저장되었습니다.\n"
     ]
    }
   ],
   "source": [
    "import json\n",
    "\n",
    "# JSON 파일을 읽어옵니다.\n",
    "with open('./data/new_irrelevant_authority_split_v2_modified_negation_sum.json') as f:\n",
    "    json_data = json.load(f)\n",
    "\n",
    "# 각 sample에 대해 수정합니다.\n",
    "for sample in json_data['test']:\n",
    "    # sample 리스트의 길이를 4까지 늘립니다.\n",
    "    while len(sample) < 6:\n",
    "        sample.append('')\n",
    "    # 3번째 인덱스에 빈 문자열을 할당합니다.\n",
    "    sample[5] = ''\n",
    "\n",
    "# 수정된 json_data를 파일에 저장합니다.\n",
    "with open('./data/new_irrelevant_authority_split_v2_modified_negation_sum.json', 'w') as f:\n",
    "    json.dump(json_data, f, indent=4)\n",
    "\n",
    "print('수정된 JSON 파일이 저장되었습니다.')"
   ]
  },
  {
   "cell_type": "code",
   "execution_count": null,
   "metadata": {},
   "outputs": [],
   "source": [
    "import json\n",
    "\n",
    "# JSON 파일 읽기\n",
    "with open('./data/faulty_generalization_split.json') as f1:\n",
    "    data1 = json.load(f1)\n",
    "\n",
    "with open('./data/new_faulty_generalization_split_v2_modified_negation_sum.json', 'r') as f2:\n",
    "    data2 = json.load(f2)\n",
    "    \n",
    "    # data2에 sample[4] 값 추가\n",
    "    for sample in data1['test']:\n",
    "        print(sample[3])\n",
    "        data2[5]=sample[3]\n",
    "    # 수정된 json_data를 파일에 저장합니다.\n",
    "with open('./data/new_faulty_generalization_split_v2_modified_negation_sum.json', 'w') as f:\n",
    "    json.dump(json_data, f, indent=4)\n",
    "\n",
    "print('수정된 JSON 파일이 저장되었습니다.')\n",
    "   "
   ]
  },
  {
   "cell_type": "code",
   "execution_count": 175,
   "metadata": {},
   "outputs": [
    {
     "name": "stdout",
     "output_type": "stream",
     "text": [
      "수정된 JSON 파일이 저장되었습니다.\n"
     ]
    }
   ],
   "source": [
    "import json\n",
    "\n",
    "# JSON 파일 읽기\n",
    "with open('./data/faulty_generalization_split.json') as f1:\n",
    "    data1 = json.load(f1)\n",
    "\n",
    "# JSON 파일 읽기\n",
    "with open('./data/new_faulty_generalization_split_v2_modified_negation_sum.json', 'r+') as f2:\n",
    "    data2 = json.load(f2)\n",
    "    \n",
    "    # data2의 값을 sample[4] 값으로 대체\n",
    "    for sample1, sample2 in zip(data1['test'], data2['test']):\n",
    "        sample2[5] = sample1[3]  # 기존의 값을 새로운 값으로 대체합니다.\n",
    "\n",
    "    # 파일에 쓰기\n",
    "    f2.seek(0)\n",
    "    json.dump(data2, f2, indent=4)\n",
    "    f2.truncate()\n",
    "\n",
    "print('수정된 JSON 파일이 저장되었습니다.')"
   ]
  },
  {
   "cell_type": "code",
   "execution_count": 176,
   "metadata": {},
   "outputs": [
    {
     "name": "stdout",
     "output_type": "stream",
     "text": [
      "수정된 JSON 파일이 저장되었습니다.\n"
     ]
    }
   ],
   "source": [
    "import json\n",
    "\n",
    "# JSON 파일 읽기\n",
    "with open('./data/false_causality_split.json') as f1:\n",
    "    data1 = json.load(f1)\n",
    "\n",
    "# JSON 파일 읽기\n",
    "with open('./data/new_false_causality_split_v2_modified_negation_sum.json', 'r+') as f2:\n",
    "    data2 = json.load(f2)\n",
    "    \n",
    "    # data2의 값을 sample[4] 값으로 대체\n",
    "    for sample1, sample2 in zip(data1['test'], data2['test']):\n",
    "        sample2[5] = sample1[3]  # 기존의 값을 새로운 값으로 대체합니다.\n",
    "\n",
    "    # 파일에 쓰기\n",
    "    f2.seek(0)\n",
    "    json.dump(data2, f2, indent=4)\n",
    "    f2.truncate()\n",
    "\n",
    "print('수정된 JSON 파일이 저장되었습니다.')"
   ]
  },
  {
   "cell_type": "code",
   "execution_count": 177,
   "metadata": {},
   "outputs": [
    {
     "name": "stdout",
     "output_type": "stream",
     "text": [
      "수정된 JSON 파일이 저장되었습니다.\n"
     ]
    }
   ],
   "source": [
    "import json\n",
    "\n",
    "# JSON 파일 읽기\n",
    "with open('./data/irrelevant_authority_split.json') as f1:\n",
    "    data1 = json.load(f1)\n",
    "\n",
    "# JSON 파일 읽기\n",
    "with open('./data/new_irrelevant_authority_split_v2_modified_negation_sum.json', 'r+') as f2:\n",
    "    data2 = json.load(f2)\n",
    "    \n",
    "    # data2의 값을 sample[4] 값으로 대체\n",
    "    for sample1, sample2 in zip(data1['test'], data2['test']):\n",
    "        sample2[5] = sample1[3]  # 기존의 값을 새로운 값으로 대체합니다.\n",
    "\n",
    "    # 파일에 쓰기\n",
    "    f2.seek(0)\n",
    "    json.dump(data2, f2, indent=4)\n",
    "    f2.truncate()\n",
    "\n",
    "print('수정된 JSON 파일이 저장되었습니다.')"
   ]
  },
  {
   "cell_type": "code",
   "execution_count": 178,
   "metadata": {},
   "outputs": [],
   "source": [
    "import random\n",
    "with open('./data/new_faulty_generalization_split_v2_modified_negation_sum.json') as f1:\n",
    "    data1 = json.load(f1)\n",
    "with open('./data/new_false_causality_split_v2_modified_negation_sum.json') as f2:\n",
    "    data2 = json.load(f2)\n",
    "with open('./data/new_irrelevant_authority_split_v2_modified_negation_sum.json') as f3:\n",
    "    data3 = json.load(f3)\n",
    "\n",
    "test1 = data1['test']\n",
    "test2 = data2['test']\n",
    "test3 = data3['test']\n",
    "\n",
    "combined_test = test1 + test2 + test3\n",
    "\n",
    "random.shuffle(combined_test)\n",
    "\n",
    "new_json_structure={'test':combined_test}\n",
    "\n",
    "with open('./data/new_total_split_v2_modified_negation_sum.json','w',encoding='utf-8') as new_file:\n",
    "    json.dump(new_json_structure, new_file, ensure_ascii=False,indent=4)"
   ]
  },
  {
   "cell_type": "code",
   "execution_count": 14,
   "metadata": {},
   "outputs": [
    {
     "name": "stdout",
     "output_type": "stream",
     "text": [
      "1. I can eat and should sleep.\n",
      "2. I can eat and should not not sleep.\n",
      "3. I can not eat and should not sleep.\n"
     ]
    }
   ],
   "source": [
    "def generate_variants(input_sentence):\n",
    "    variants = []\n",
    "\n",
    "    # 부정을 긍정으로 바꾸는 경우\n",
    "    negative_to_positive_rules = {\n",
    "        r'\\bdo not\\b': '',\n",
    "        r'\\bdoes not\\b': '',\n",
    "        r'\\bcan not\\b': '',\n",
    "        r'\\bis not\\b': 'is',\n",
    "        r'\\bare not\\b': 'are',\n",
    "        r'\\bwill not\\b': 'will',\n",
    "        r'\\bhad not\\b': 'had',\n",
    "        r'\\bshould not\\b': 'should',\n",
    "        r'\\bdid not\\b': '',\n",
    "        r'\\bam not\\b': 'am',\n",
    "        r'\\bwould not\\b': 'would',\n",
    "        r'\\bhave not\\b': 'have',\n",
    "        r'\\bhas not\\b': 'has',\n",
    "        r'\\bwas not\\b': 'was',\n",
    "        r'\\bwere not\\b': 'were'\n",
    "    }\n",
    "\n",
    "    for pattern, replacement in negative_to_positive_rules.items():\n",
    "        regex = re.compile(pattern)\n",
    "        if regex.search(input_sentence):\n",
    "            variant = regex.sub(replacement, input_sentence)\n",
    "            variants.append(variant)\n",
    "\n",
    "    # 긍정을 부정으로 바꾸는 경우\n",
    "    positive_to_negative_rules = {\n",
    "        r'\\bmust\\b': 'must not',\n",
    "        r'\\bshould\\b': 'should not',\n",
    "        r'\\bmay\\b': 'may not',\n",
    "        r'\\bmight\\b': 'might not',\n",
    "        r'\\bcan\\b': 'can not',\n",
    "        r'\\bcould\\b': 'could not',\n",
    "        r'\\b(be)\\b': r'\\1 not',\n",
    "        r'\\b(?!do\\s+(?:I|we|you|they)\\b)\\bdo\\b': 'does not',  # 주어가 단수면 does not\n",
    "        r'\\b(?!do\\s+(?:he|she|it)\\b)\\bdo\\b': 'do not'  # 주어가 복수면 do not\n",
    "    }\n",
    "\n",
    "    for pattern, replacement in positive_to_negative_rules.items():\n",
    "        regex = re.compile(pattern)\n",
    "        if regex.search(input_sentence):\n",
    "            variant = regex.sub(replacement, input_sentence)\n",
    "            variants.append(variant)\n",
    "\n",
    "    return variants\n",
    "\n",
    "# 테스트\n",
    "input_sentence = \"I can eat and should not sleep.\"\n",
    "variants = generate_variants(input_sentence)\n",
    "for i, variant in enumerate(variants):\n",
    "    print(f\"{i+1}. {variant}\")\n"
   ]
  },
  {
   "cell_type": "code",
   "execution_count": 13,
   "metadata": {},
   "outputs": [
    {
     "name": "stdout",
     "output_type": "stream",
     "text": [
      "NLTK로 추출된 동사: ['am', 'eating', 'writing']\n"
     ]
    }
   ],
   "source": [
    "import nltk\n",
    "from nltk.tokenize import word_tokenize\n",
    "from nltk.tag import pos_tag\n",
    "\n",
    "def extract_verbs_nltk(sentence):\n",
    "    tokens = word_tokenize(sentence)\n",
    "    tagged = pos_tag(tokens)\n",
    "    verbs = [word for word, pos in tagged if pos.startswith('V')]\n",
    "    return verbs\n",
    "\n",
    "# 예제 문장\n",
    "sentence = \"I am eating an apple and writing a code.\"\n",
    "verbs = extract_verbs_nltk(sentence)\n",
    "print(\"NLTK로 추출된 동사:\", verbs)\n"
   ]
  },
  {
   "cell_type": "code",
   "execution_count": 14,
   "metadata": {},
   "outputs": [
    {
     "name": "stdout",
     "output_type": "stream",
     "text": [
      "SpaCy로 추출된 동사: ['eating', 'writing']\n"
     ]
    }
   ],
   "source": [
    "import spacy\n",
    "\n",
    "def extract_verbs_spacy(sentence):\n",
    "    nlp = spacy.load(\"en_core_web_sm\")\n",
    "    doc = nlp(sentence)\n",
    "    verbs = [token.text for token in doc if token.pos_ == 'VERB']\n",
    "    return verbs\n",
    "\n",
    "# 예제 문장\n",
    "sentence = \"I am eating an apple and writing a code.\"\n",
    "verbs = extract_verbs_spacy(sentence)\n",
    "print(\"SpaCy로 추출된 동사:\", verbs)\n"
   ]
  },
  {
   "cell_type": "code",
   "execution_count": 29,
   "metadata": {},
   "outputs": [
    {
     "name": "stdout",
     "output_type": "stream",
     "text": [
      "Modified Sentence: I am not eating an apple and not writing a code .\n"
     ]
    }
   ],
   "source": [
    "import spacy\n",
    "\n",
    "def modify_verbs_with_not(sentence):\n",
    "    nlp = spacy.load(\"en_core_web_sm\")\n",
    "    doc = nlp(sentence)\n",
    "    \n",
    "    modified_sentence = []\n",
    "    for token in doc:\n",
    "        if token.pos_ == 'VERB':\n",
    "            # 동사 앞에 \"not\"이 있는지 확인하고 있으면 제거, 없으면 추가\n",
    "            if token.i > 0 and doc[token.i - 1].text.lower() == 'not':\n",
    "                modified_sentence.append(token.text)\n",
    "            else:\n",
    "                modified_sentence.append('not ' + token.text)\n",
    "        else:\n",
    "            modified_sentence.append(token.text)\n",
    "    \n",
    "    return ' '.join(modified_sentence)\n",
    "\n",
    "# 예제 문장\n",
    "sentence = \"I am eating an apple and writing a code.\"\n",
    "modified_sentence = modify_verbs_with_not(sentence)\n",
    "print(\"Modified Sentence:\", modified_sentence)\n"
   ]
  },
  {
   "cell_type": "code",
   "execution_count": 126,
   "metadata": {},
   "outputs": [
    {
     "name": "stdout",
     "output_type": "stream",
     "text": [
      "Modified Sentence: Our family not has always not been farmers\n"
     ]
    }
   ],
   "source": [
    "import nltk\n",
    "from nltk.tokenize import word_tokenize\n",
    "from nltk.tag import pos_tag\n",
    "\n",
    "def modify_verbs_with_not(sentence):\n",
    "    tokens = word_tokenize(sentence)\n",
    "    tagged_tokens = pos_tag(tokens)\n",
    "    \n",
    "    modified_sentence = []\n",
    "    for i, (token, pos) in enumerate(tagged_tokens):\n",
    "        if token.lower() == 'not':\n",
    "            continue\n",
    "        elif pos.startswith('V') or pos == 'MD':  # 동사 또는 조동사\n",
    "            # 동사 앞에 \"not\"이 있는지 확인하고 있으면 제거, 없으면 추가\n",
    "            if i > 0 and tagged_tokens[i - 1][0].lower() == 'not':\n",
    "                modified_sentence.append(token)\n",
    "            else:\n",
    "                modified_sentence.append('not ' + token)\n",
    "        else:\n",
    "            modified_sentence.append(token)\n",
    "    \n",
    "    return ' '.join(modified_sentence)\n",
    "\n",
    "# 예제 문장\n",
    "sentence = \"Our family has not always been farmers\"\n",
    "modified_sentence = modify_verbs_with_not(sentence)\n",
    "print(\"Modified Sentence:\", modified_sentence)\n"
   ]
  },
  {
   "cell_type": "code",
   "execution_count": 77,
   "metadata": {},
   "outputs": [
    {
     "name": "stdout",
     "output_type": "stream",
     "text": [
      "[('He', 'PRP'), ('are', 'VBP'), ('eating', 'VBG'), ('vegetables', 'NNS'), ('and', 'CC'), ('fruits', 'NNS'), ('every', 'DT'), ('day', 'NN'), ('.', '.')]\n"
     ]
    }
   ],
   "source": [
    "import nltk\n",
    "from nltk.tokenize import word_tokenize\n",
    "from nltk.tag import pos_tag\n",
    "\n",
    "# sentence = \"Our family has always been farmers\"\n",
    "sentence = \"He are eating vegetables and fruits every day.\"\n",
    "tokens = word_tokenize(sentence)\n",
    "tagged_tokens = pos_tag(tokens)\n",
    "\n",
    "print(tagged_tokens)\n"
   ]
  },
  {
   "cell_type": "code",
   "execution_count": 79,
   "metadata": {},
   "outputs": [
    {
     "name": "stdout",
     "output_type": "stream",
     "text": [
      "[('We', 'PRP'), ('can', 'MD'), ('solve', 'VB'), ('this', 'DT'), ('problem', 'NN'), ('.', '.')]\n"
     ]
    }
   ],
   "source": [
    "import nltk\n",
    "from nltk.tokenize import word_tokenize\n",
    "from nltk.tag import pos_tag\n",
    "\n",
    "# sentence = \"Our family has always been farmers\"\n",
    "# sentence = \"He are eating vegetables and fruits every day.\"\n",
    "\n",
    "tokens = word_tokenize(sentence4)\n",
    "tagged_tokens = pos_tag(tokens)\n",
    "\n",
    "print(tagged_tokens)"
   ]
  },
  {
   "cell_type": "code",
   "execution_count": 147,
   "metadata": {},
   "outputs": [
    {
     "name": "stdout",
     "output_type": "stream",
     "text": [
      "[('Do', 'VBP'), ('you', 'PRP'), ('want', 'VB'), ('a', 'DT'), ('bee', 'NN'), ('to', 'TO'), ('have', 'VB'), ('special', 'JJ'), ('rights', 'NNS'), ('?', '.')]\n"
     ]
    }
   ],
   "source": [
    "import nltk\n",
    "from nltk.tokenize import word_tokenize\n",
    "from nltk.tag import pos_tag\n",
    "\n",
    "# sentence = \"Our family has always been farmers\"\n",
    "# sentence = \"He are eating vegetables and fruits every day.\"\n",
    "sentence4 = \"Do you want a bee to have special rights?\"\n",
    "tokens = word_tokenize(sentence4)\n",
    "tagged_tokens = pos_tag(tokens)\n",
    "\n",
    "print(tagged_tokens)"
   ]
  },
  {
   "cell_type": "code",
   "execution_count": 146,
   "metadata": {},
   "outputs": [
    {
     "name": "stdout",
     "output_type": "stream",
     "text": [
      "Modified Sentence: Facebook cost me just time\n",
      "Modified Sentence 2: we do not talk much less than ever before .\n",
      "Modified Sentence 3: She has not been working hard .\n",
      "Modified Sentence 4: He do likes this problem and we can not solve the problem and She has not been working hard .\n"
     ]
    }
   ],
   "source": [
    "import nltk\n",
    "from nltk.tokenize import word_tokenize\n",
    "from nltk.tag import pos_tag\n",
    "\n",
    "def modify_verbs_with_not(sentence):\n",
    "    tokens = word_tokenize(sentence)\n",
    "    tagged_tokens = pos_tag(tokens)\n",
    "    \n",
    "    modified_sentence = []\n",
    "    has_md = False\n",
    "    has_vbd_was = False\n",
    "    has_vbz_is = False\n",
    "    has_vbn_been = False\n",
    "\n",
    "    has_not = False  # 문장에 \"not\"이 있는지 여부를 나타내는 변수\n",
    "\n",
    "    for i, (token, pos) in enumerate(tagged_tokens):\n",
    "        if token.lower() == 'not':\n",
    "            has_not = True  # \"not\"이 발견되면 해당 변수를 True로 설정\n",
    "            # modified_sentence.append(sentence)\n",
    "            # return sentence\n",
    "            continue\n",
    "        elif pos == 'MD':  # 조동사\n",
    "            has_md = True\n",
    "            modified_sentence.append(token)\n",
    "            modified_sentence.append('not')\n",
    "        elif pos == 'VBD':  # 과거 동사\n",
    "            if token.lower() == 'was':\n",
    "                modified_sentence.append(token)\n",
    "                modified_sentence.append('not')\n",
    "                has_vbd_was = True\n",
    "            else:\n",
    "                modified_sentence.append('did not')\n",
    "                modified_sentence.append(token)\n",
    "        elif pos == 'VBZ':  # 현재 시제 동사\n",
    "            if token.lower() == 'is':\n",
    "                modified_sentence.append(token + ' not')\n",
    "                has_vbz_is = True\n",
    "            elif token.lower() in ['has', 'had']:\n",
    "                if tagged_tokens[i+1][1] == 'VBN':  # 다음이 과거 분사인 경우\n",
    "                    modified_sentence.append(token)\n",
    "                    modified_sentence.append('not')\n",
    "                else:\n",
    "                    modified_sentence.append(token + ' not')\n",
    "            else:\n",
    "                modified_sentence.append('does not')\n",
    "                modified_sentence.append(token)\n",
    "        elif pos == 'VBN':  # 과거 분사\n",
    "            if token.lower() == 'been':\n",
    "                if tagged_tokens[i-1][1] == 'VBD':  # 앞에 VBD가 있는 경우\n",
    "                    modified_sentence[-1] += ' not'\n",
    "                    modified_sentence.append(token)\n",
    "                    has_vbn_been = True\n",
    "                else:\n",
    "                    modified_sentence.append(token)\n",
    "            else:\n",
    "                modified_sentence.append('not')\n",
    "                modified_sentence.append(token)\n",
    "        elif pos == 'VBP':  # 현재 시제 동사의 세 번째 인칭 단수\n",
    "            modified_sentence.append('do not')\n",
    "            modified_sentence.append(token)\n",
    "        else:\n",
    "            modified_sentence.append(token)\n",
    "\n",
    "    \n",
    "    return ' '.join(modified_sentence)\n",
    "\n",
    "# 예제 문장\n",
    "sentence = \"Facebook cost me just time\"\n",
    "modified_sentence = modify_verbs_with_not(sentence)\n",
    "print(\"Modified Sentence:\", modified_sentence)\n",
    "\n",
    "sentence2 = \"we talk much less than ever before .\"\n",
    "modified_sentence2 = modify_verbs_with_not(sentence2)\n",
    "print(\"Modified Sentence 2:\", modified_sentence2)\n",
    "\n",
    "sentence3 = \"She has been working hard.\"\n",
    "modified_sentence3 = modify_verbs_with_not(sentence3)\n",
    "print(\"Modified Sentence 3:\", modified_sentence3)\n",
    "\n",
    "sentence4 = \"He do not likes this problem and we can solve the problem and She has not been working hard.\"\n",
    "modified_sentence4 = modify_verbs_with_not(sentence4)\n",
    "print(\"Modified Sentence 4:\", modified_sentence4)\n"
   ]
  },
  {
   "cell_type": "code",
   "execution_count": 1,
   "metadata": {},
   "outputs": [
    {
     "name": "stdout",
     "output_type": "stream",
     "text": [
      "수정된 JSON 파일이 저장되었습니다.\n"
     ]
    }
   ],
   "source": [
    "import json\n",
    "\n",
    "# JSON 파일을 읽어옵니다.\n",
    "with open('./data/new_total_split_v2_modified_negation_sum copy.json') as f: # 현재길이 : 6\n",
    "    json_data = json.load(f)\n",
    "\n",
    "# 각 sample에 대해 수정합니다.\n",
    "for sample in json_data['test']:\n",
    "    # sample 리스트의 길이를 7까지 늘립니다.\n",
    "    while len(sample) < 8:\n",
    "        sample.append('')\n",
    "    # 3번째 인덱스에 빈 문자열을 할당합니다.\n",
    "    sample[6] = ''\n",
    "\n",
    "# 수정된 json_data를 파일에 저장합니다.\n",
    "with open('./data/new_total_split_v2_modified_negation_sum copy.json', 'w') as f:\n",
    "    json.dump(json_data, f, indent=4)\n",
    "\n",
    "print('수정된 JSON 파일이 저장되었습니다.')"
   ]
  },
  {
   "cell_type": "code",
   "execution_count": 6,
   "metadata": {},
   "outputs": [
    {
     "name": "stdout",
     "output_type": "stream",
     "text": [
      "수정된 JSON 파일이 저장되었습니다.\n"
     ]
    }
   ],
   "source": [
    "import json\n",
    "\n",
    "# JSON 파일을 읽어옵니다.\n",
    "with open('./total_general_question.json') as f: # 현재길이 : \n",
    "    json_data = json.load(f)\n",
    "\n",
    "# 각 sample에 대해 수정합니다.\n",
    "for sample in json_data['test']:\n",
    "    # sample 리스트의 길이를 4까지 늘립니다.\n",
    "    while len(sample) < 9:\n",
    "        sample.append('')\n",
    "    # 3번째 인덱스에 빈 문자열을 할당합니다.\n",
    "    sample[7] = ''\n",
    "\n",
    "# 수정된 json_data를 파일에 저장합니다.\n",
    "with open('./total_general_question.json', 'w') as f:\n",
    "    json.dump(json_data, f, indent=4)\n",
    "\n",
    "print('수정된 JSON 파일이 저장되었습니다.')"
   ]
  },
  {
   "cell_type": "code",
   "execution_count": 2,
   "metadata": {},
   "outputs": [
    {
     "name": "stdout",
     "output_type": "stream",
     "text": [
      "Combined data saved to: ./new_data/LOGIC/LOGIC_all.json\n"
     ]
    }
   ],
   "source": [
    "import json\n",
    "\n",
    "# 각 JSON 파일의 경로\n",
    "file_paths = [\"./new_data/LOGIC/LOGIC_train.json\", \"./new_data/LOGIC/LOGIC_dev.json\", \"./new_data/LOGIC/LOGIC_test.json\"]\n",
    "\n",
    "# 빈 딕셔너리를 만들어서 각 데이터를 저장할 준비\n",
    "combined_data = {\"train\": [], \"dev\": [], \"test\": []}\n",
    "\n",
    "# 파일을 반복하여 데이터를 병합\n",
    "for file_path in file_paths:\n",
    "    with open(file_path, 'r') as file:\n",
    "        data = json.load(file)\n",
    "        for key, value in data.items():\n",
    "            combined_data[key].extend(value)\n",
    "\n",
    "# 새로운 JSON 파일에 병합된 데이터 저장\n",
    "output_file_path = \"./new_data/LOGIC/LOGIC_all.json\"\n",
    "with open(output_file_path, 'w') as output_file:\n",
    "    json.dump(combined_data, output_file, indent=4)\n",
    "\n",
    "print(\"Combined data saved to:\", output_file_path)\n"
   ]
  },
  {
   "cell_type": "code",
   "execution_count": 4,
   "metadata": {},
   "outputs": [],
   "source": [
    "import json\n",
    "\n",
    "# 각 JSON 파일에서 데이터 읽어오기\n",
    "with open('./new_data/LOGIC/LOGIC_train.json', 'r') as f:\n",
    "    data1 = json.load(f)\n",
    "\n",
    "with open('./new_data/LOGIC/LOGIC_dev.json', 'r') as f:\n",
    "    data2 = json.load(f)\n",
    "\n",
    "with open('./new_data/LOGIC/LOGIC_test.json', 'r') as f:\n",
    "    data3 = json.load(f)\n",
    "\n",
    "# 데이터를 새로운 JSON 파일에 합치기\n",
    "merged_data = {\n",
    "    'train': data1['test'],\n",
    "    'dev': data2['test'],\n",
    "    'test': data3['test']\n",
    "}\n",
    "\n",
    "# 새로운 JSON 파일에 저장\n",
    "with open('./new_data/LOGIC/LOGIC_all.json', 'w') as f:\n",
    "    json.dump(merged_data, f, indent=4)\n"
   ]
  },
  {
   "cell_type": "code",
   "execution_count": 5,
   "metadata": {},
   "outputs": [],
   "source": [
    "import json\n",
    "\n",
    "# 각 JSON 파일에서 데이터 읽어오기\n",
    "with open('./new_data/Argotario/argotario_train.json', 'r') as f:\n",
    "    data1 = json.load(f)\n",
    "\n",
    "with open('./new_data/Argotario/argotario_dev.json', 'r') as f:\n",
    "    data2 = json.load(f)\n",
    "\n",
    "with open('./new_data/Argotario/argotario_test.json', 'r') as f:\n",
    "    data3 = json.load(f)\n",
    "\n",
    "# 데이터를 새로운 JSON 파일에 합치기\n",
    "merged_data = {\n",
    "    'train': data1['test'],\n",
    "    'dev': data2['test'],\n",
    "    'test': data3['test']\n",
    "}\n",
    "\n",
    "# 새로운 JSON 파일에 저장\n",
    "with open('./new_data/Argotario/argotario_all.json', 'w') as f:\n",
    "    json.dump(merged_data, f, indent=4)\n"
   ]
  },
  {
   "cell_type": "code",
   "execution_count": 1,
   "metadata": {},
   "outputs": [],
   "source": [
    "import json\n",
    "\n",
    "# 각 JSON 파일에서 데이터 읽어오기\n",
    "with open('./new_data/CLIMATE/climate_train.json', 'r') as f:\n",
    "    data1 = json.load(f)\n",
    "\n",
    "with open('./new_data/CLIMATE/climate_dev.json', 'r') as f:\n",
    "    data2 = json.load(f)\n",
    "\n",
    "with open('./new_data/CLIMATE/climate_test.json', 'r') as f:\n",
    "    data3 = json.load(f)\n",
    "\n",
    "# 데이터를 새로운 JSON 파일에 합치기\n",
    "merged_data = {\n",
    "    'train': data1['test'],\n",
    "    'dev': data2['test'],\n",
    "    'test': data3['test']\n",
    "}\n",
    "\n",
    "# 새로운 JSON 파일에 저장\n",
    "with open('./new_data/CLIMATE/climate_all.json', 'w') as f:\n",
    "    json.dump(merged_data, f, indent=4)"
   ]
  },
  {
   "cell_type": "code",
   "execution_count": 2,
   "metadata": {},
   "outputs": [],
   "source": [
    "import json\n",
    "\n",
    "# 각 JSON 파일에서 데이터 읽어오기\n",
    "with open('./new_data/COVID-19/covid_train.json', 'r') as f:\n",
    "    data1 = json.load(f)\n",
    "\n",
    "with open('./new_data/COVID-19/covid_dev.json', 'r') as f:\n",
    "    data2 = json.load(f)\n",
    "\n",
    "with open('./new_data/COVID-19/covid_test.json', 'r') as f:\n",
    "    data3 = json.load(f)\n",
    "\n",
    "# 데이터를 새로운 JSON 파일에 합치기\n",
    "merged_data = {\n",
    "    'train': data1['test'],\n",
    "    'dev': data2['test'],\n",
    "    'test': data3['test']\n",
    "}\n",
    "\n",
    "# 새로운 JSON 파일에 저장\n",
    "with open('./new_data/COVID-19/covid_all.json', 'w') as f:\n",
    "    json.dump(merged_data, f, indent=4)"
   ]
  },
  {
   "cell_type": "code",
   "execution_count": 15,
   "metadata": {},
   "outputs": [
    {
     "name": "stdout",
     "output_type": "stream",
     "text": [
      "Overlap: 119\n",
      "Overlap Ratio: 65.38461538461539 %\n"
     ]
    }
   ],
   "source": [
    "ground_truth = [3, 1, 2, 3, 5, 3, 5, 4, 4, 5, 4, 4, 3, 2, 4, 1, 4, 4, 1, 2, 5, 1, 4, 2, 1, 3, 1, 2, 4, 1, 1, 1, 3, 1, 2, 3, 1, 2, 5, 1, 1, 4, 2, 4, 3, 2, 4, 3, 5, 1, 2, 1, 2, 2, 1, 1, 3, 4, 3, 2, 5, 4, 1, 1, 1, 1, 2, 3, 3, 4, 1, 2, 3, 4, 5, 4, 1, 2, 3, 2, 4, 3, 1, 2, 2, 2, 5, 3, 3, 2, 4, 3, 2, 3, 3, 1, 1, 5, 4, 3, 2, 2, 2, 3, 1, 1, 1, 2, 2, 5, 1, 4, 5, 3, 3, 3, 2, 4, 1, 2, 4, 2, 1, 3, 1, 4, 2, 3, 3, 1, 3, 1, 5, 3, 1, 2, 2, 4, 1, 3, 1, 1, 5, 1, 4, 1, 2, 5, 4, 4, 1, 3, 3, 4, 4, 4, 5, 5, 1, 2, 5, 2, 1, 5, 5, 3, 1, 5, 2, 5, 4, 2, 5, 2, 1, 3, 5, 4, 1, 5, 4, 1]\n",
    "gpt_preds = [3, 1, 2, 3, 2, 3, 1, 4, 3, 2, 4, 4, 3, 2, 3, 4, 4, 4, 1, 3, 2, 1, 3, 2, 1, 3, 1, 2, 5, 4, 2, 1, 3, 1, 2, 3, 3, 2, 3, 1, 3, 1, 2, 4, 4, 2, 4, 3, 5, 2, 3, 1, 3, 2, 1, 0, 3, 3, 3, 2, 2, 4, 2, 1, 1, 1, 2, 3, 3, 4, 3, 3, 3, 3, 5, 2, 3, 1, 3, 0, 4, 3, 1, 3, 2, 2, 1, 3, 3, 1, 4, 3, 3, 3, 2, 1, 1, 2, 4, 3, 3, 3, 2, 3, 1, 2, 3, 2, 3, 1, 1, 4, 3, 3, 3, 3, 2, 4, 1, 2, 4, 2, 4, 3, 1, 4, 2, 3, 3, 1, 2, 1, 3, 3, 1, 2, 2, 3, 2, 3, 3, 1, 5, 1, 4, 1, 2, 3, 3, 3, 1, 3, 3, 1, 4, 3, 5, 5, 1, 2, 3, 2, 3, 3, 2, 2, 1, 5, 2, 5, 4, 2, 2, 2, 1, 3, 1, 4, 1, 5, 2, 1]\n",
    "\n",
    "# 두 리스트의 길이 계산\n",
    "len_ground_truth = len(ground_truth)\n",
    "len_gpt_preds = len(gpt_preds)\n",
    "\n",
    "# 두 리스트의 중복되는 요소를 찾아 overlap을 계산\n",
    "overlap = 0\n",
    "for item in zip(ground_truth, gpt_preds):\n",
    "    if item[0] == item[1]:\n",
    "        overlap += 1\n",
    "\n",
    "# overlap의 비율 계산\n",
    "overlap_ratio = (overlap / min(len_ground_truth, len_gpt_preds)) * 100\n",
    "\n",
    "print(\"Overlap:\", overlap)\n",
    "print(\"Overlap Ratio:\", overlap_ratio, \"%\")\n"
   ]
  },
  {
   "cell_type": "code",
   "execution_count": 16,
   "metadata": {},
   "outputs": [
    {
     "data": {
      "text/plain": [
       "0.6538461538461539"
      ]
     },
     "execution_count": 16,
     "metadata": {},
     "output_type": "execute_result"
    }
   ],
   "source": [
    "119/182"
   ]
  },
  {
   "cell_type": "code",
   "execution_count": 20,
   "metadata": {},
   "outputs": [
    {
     "data": {
      "text/plain": [
       "0.0757396449704142"
      ]
     },
     "execution_count": 20,
     "metadata": {},
     "output_type": "execute_result"
    }
   ],
   "source": [
    "a=[{'f1': 0.0757396449704142}]\n",
    "a[0]['f1']"
   ]
  },
  {
   "cell_type": "code",
   "execution_count": 21,
   "metadata": {},
   "outputs": [
    {
     "name": "stdout",
     "output_type": "stream",
     "text": [
      "[0.08323699421965317, 0.10828466363833009]\n"
     ]
    }
   ],
   "source": [
    "# 주어진 리스트\n",
    "original_list = [{'f1': 0.08323699421965317}, {'f1': 0.10828466363833009}]\n",
    "\n",
    "# 'f1' 키에 해당하는 값들을 추출하여 새로운 리스트에 저장\n",
    "new_list = [item['f1'] for item in original_list]\n",
    "\n",
    "# 결과 출력\n",
    "print(new_list)"
   ]
  },
  {
   "attachments": {},
   "cell_type": "markdown",
   "metadata": {},
   "source": [
    "### No fallacy dataset"
   ]
  },
  {
   "cell_type": "code",
   "execution_count": 8,
   "metadata": {},
   "outputs": [],
   "source": [
    "import json\n",
    "import random\n",
    "# 각 JSON 파일에서 데이터 읽어오기\n",
    "with open('./new_data/Argotario/argotario_test.json', 'r') as f:\n",
    "    data1 = json.load(f)\n",
    "\n",
    "with open('./new_data/Argotario/argotario_test_no_fallacy.json', 'r') as f:\n",
    "    data2 = json.load(f)\n",
    "\n",
    "data = data1['test'] + data2['test']\n",
    "random.shuffle(data)\n",
    "a = {'test': data}\n",
    "# 새로운 JSON 파일에 저장\n",
    "with open('./new_data/Argotario/argotario_test_with_no_fallacy.json', 'w') as f:\n",
    "    json.dump(a, f, indent=4)"
   ]
  },
  {
   "cell_type": "code",
   "execution_count": 7,
   "metadata": {},
   "outputs": [],
   "source": [
    "import json\n",
    "\n",
    "# 각 JSON 파일에서 데이터 읽어오기\n",
    "with open('./new_data/CLIMATE/climate_test.json', 'r') as f:\n",
    "    data1 = json.load(f)\n",
    "\n",
    "with open('./new_data/CLIMATE/climate_test_no_fallacy.json', 'r') as f:\n",
    "    data2 = json.load(f)\n",
    "\n",
    "data = data1['test'] + data2['test']\n",
    "random.shuffle(data)\n",
    "# 새로운 JSON 파일에 저장합니다.\n",
    "a = {'test': data}\n",
    "# 새로운 JSON 파일에 저장\n",
    "with open('./new_data/CLIMATE/climate_test_with_no_fallacy.json', 'w') as f:\n",
    "    json.dump(a, f, indent=4)"
   ]
  },
  {
   "cell_type": "code",
   "execution_count": 7,
   "metadata": {},
   "outputs": [],
   "source": [
    "import json\n",
    "\n",
    "# 각 JSON 파일에서 데이터 읽어오기\n",
    "with open('./new_data/COVID-19/covid_test.json', 'r') as f:\n",
    "    data1 = json.load(f)\n",
    "\n",
    "with open('./new_data/COVID-19/covid_test_no_fallacy.json', 'r') as f:\n",
    "    data2 = json.load(f)\n",
    "\n",
    "data = data1['test'] + data2['test']\n",
    "random.shuffle(data)\n",
    "a = {'test': data}\n",
    "# 새로운 JSON 파일에 저장\n",
    "with open('./new_data/COVID-19/covid_test_with_no_fallacy.json', 'w') as f:\n",
    "    json.dump(a, f, indent=4)"
   ]
  },
  {
   "cell_type": "code",
   "execution_count": 1,
   "metadata": {},
   "outputs": [],
   "source": [
    "import json\n",
    "import random\n",
    "# 각 JSON 파일에서 데이터 읽어오기\n",
    "with open('./new_data/Argotario/argotario_train.json', 'r') as f:\n",
    "    data1 = json.load(f)\n",
    "\n",
    "with open('./new_data/Argotario/argotario_dev.json', 'r') as f:\n",
    "    data2 = json.load(f)\n",
    "with open('./new_data/Argotario/argotario_test.json', 'r') as f:\n",
    "    data3 = json.load(f)\n",
    "\n",
    "data = data1['test'] + data2['test'] + data3['test']\n",
    "# random.shuffle(data)\n",
    "a = {'test': data}\n",
    "# 새로운 JSON 파일에 저장\n",
    "with open('./new_data/Argotario/argotario_all_confidence.json', 'w') as f:\n",
    "    json.dump(a, f, indent=4)"
   ]
  },
  {
   "cell_type": "code",
   "execution_count": 3,
   "metadata": {},
   "outputs": [],
   "source": [
    "import json\n",
    "\n",
    "# 각 JSON 파일에서 데이터 읽어오기\n",
    "with open('./new_data/COVID-19/covid_train.json', 'r') as f:\n",
    "    data1 = json.load(f)\n",
    "\n",
    "with open('./new_data/COVID-19/covid_dev.json', 'r') as f:\n",
    "    data2 = json.load(f)\n",
    "\n",
    "with open('./new_data/COVID-19/covid_test.json', 'r') as f:\n",
    "    data3 = json.load(f)\n",
    "\n",
    "data = data1['test'] + data2['test'] + data3['test']\n",
    "# random.shuffle(data)\n",
    "a = {'test': data}\n",
    "# 새로운 JSON 파일에 저장\n",
    "with open('./new_data/COVID-19/covid_all_confidence.json', 'w') as f:\n",
    "    json.dump(a, f, indent=4)"
   ]
  },
  {
   "cell_type": "code",
   "execution_count": 5,
   "metadata": {},
   "outputs": [],
   "source": [
    "import json\n",
    "\n",
    "# 각 JSON 파일에서 데이터 읽어오기\n",
    "with open('./new_data/CLIMATE/climate_train.json', 'r') as f:\n",
    "    data1 = json.load(f)\n",
    "\n",
    "with open('./new_data/CLIMATE/climate_dev.json', 'r') as f:\n",
    "    data2 = json.load(f)\n",
    "with open('./new_data/CLIMATE/climate_test.json', 'r') as f:\n",
    "    data3 = json.load(f)\n",
    "\n",
    "data = data1['test'] + data2['test'] + data3['test']\n",
    "# random.shuffle(data)\n",
    "# 새로운 JSON 파일에 저장합니다.\n",
    "a = {'test': data}\n",
    "# 새로운 JSON 파일에 저장\n",
    "with open('./new_data/CLIMATE/climate_all_confidence.json', 'w') as f:\n",
    "    json.dump(a, f, indent=4)"
   ]
  },
  {
   "cell_type": "code",
   "execution_count": 6,
   "metadata": {},
   "outputs": [],
   "source": [
    "import json\n",
    "\n",
    "# 각 JSON 파일에서 데이터 읽어오기\n",
    "with open('./new_data/LOGIC/LOGIC_train.json', 'r') as f:\n",
    "    data1 = json.load(f)\n",
    "\n",
    "with open('./new_data/LOGIC/LOGIC_dev.json', 'r') as f:\n",
    "    data2 = json.load(f)\n",
    "with open('./new_data/LOGIC/LOGIC_test.json', 'r') as f:\n",
    "    data3 = json.load(f)\n",
    "\n",
    "data = data1['test'] + data2['test'] + data3['test']\n",
    "# random.shuffle(data)\n",
    "# 새로운 JSON 파일에 저장합니다.\n",
    "a = {'test': data}\n",
    "# 새로운 JSON 파일에 저장\n",
    "with open('./new_data/LOGIC/LOGIC_all_confidence.json', 'w') as f:\n",
    "    json.dump(a, f, indent=4)"
   ]
  },
  {
   "attachments": {},
   "cell_type": "markdown",
   "metadata": {},
   "source": [
    "### 4월 8일"
   ]
  },
  {
   "cell_type": "code",
   "execution_count": 1,
   "metadata": {},
   "outputs": [],
   "source": [
    "import json\n",
    "import random\n",
    "# 각 JSON 파일에서 데이터 읽어오기\n",
    "with open('./new_data/Argotario/argotario_train.json', 'r') as f:\n",
    "    data1 = json.load(f)\n",
    "\n",
    "with open('./new_data/Argotario/argotario_train_no_fallacy.json', 'r') as f:\n",
    "    data2 = json.load(f)\n",
    "\n",
    "data = data1['test'] + data2['test']\n",
    "random.shuffle(data)\n",
    "a = {'test': data}\n",
    "# 새로운 JSON 파일에 저장\n",
    "with open('./new_data/Argotario/argotario_train_with_no_fallacy.json', 'w') as f:\n",
    "    json.dump(a, f, indent=4)\n",
    "    \n",
    "import json\n",
    "import random\n",
    "# 각 JSON 파일에서 데이터 읽어오기\n",
    "with open('./new_data/Argotario/argotario_dev.json', 'r') as f:\n",
    "    data1 = json.load(f)\n",
    "\n",
    "with open('./new_data/Argotario/argotario_dev_no_fallacy.json', 'r') as f:\n",
    "    data2 = json.load(f)\n",
    "\n",
    "data = data1['test'] + data2['test']\n",
    "random.shuffle(data)\n",
    "a = {'test': data}\n",
    "# 새로운 JSON 파일에 저장\n",
    "with open('./new_data/Argotario/argotario_dev_with_no_fallacy.json', 'w') as f:\n",
    "    json.dump(a, f, indent=4)"
   ]
  },
  {
   "cell_type": "code",
   "execution_count": 3,
   "metadata": {},
   "outputs": [],
   "source": [
    "# 각 JSON 파일에서 데이터 읽어오기\n",
    "with open('./new_data/Argotario/argotario_train_with_no_fallacy.json', 'r') as f1:\n",
    "    data1 = json.load(f1)\n",
    "with open('./new_data/Argotario/argotario_dev_with_no_fallacy.json', 'r') as f2:\n",
    "    data2 = json.load(f2)\n",
    "with open('./new_data/Argotario/argotario_test_with_no_fallacy.json', 'r') as f3:\n",
    "    data3 = json.load(f3)\n",
    "    \n",
    "data = data1['test'] + data2['test'] + data3['test']\n",
    "a = {'test':data}\n",
    "with open('./new_data/Argotario/argotario_all_with_no_fallacy.json', 'w') as f:\n",
    "    json.dump(a, f, indent=4)"
   ]
  },
  {
   "cell_type": "code",
   "execution_count": 6,
   "metadata": {},
   "outputs": [],
   "source": [
    "import json\n",
    "\n",
    "# 각 JSON 파일에서 데이터 읽어오기\n",
    "with open('./new_data/CLIMATE/climate_train.json', 'r') as f:\n",
    "    data1 = json.load(f)\n",
    "\n",
    "with open('./new_data/CLIMATE/climate_train_no_fallacy.json', 'r') as f:\n",
    "    data2 = json.load(f)\n",
    "\n",
    "data = data1['test'] + data2['test']\n",
    "random.shuffle(data)\n",
    "# 새로운 JSON 파일에 저장합니다.\n",
    "a = {'test': data}\n",
    "# 새로운 JSON 파일에 저장\n",
    "with open('./new_data/CLIMATE/climate_train_with_no_fallacy.json', 'w') as f:\n",
    "    json.dump(a, f, indent=4)\n",
    "    \n",
    "import json\n",
    "\n",
    "# 각 JSON 파일에서 데이터 읽어오기\n",
    "with open('./new_data/CLIMATE/climate_dev.json', 'r') as f:\n",
    "    data1 = json.load(f)\n",
    "\n",
    "with open('./new_data/CLIMATE/climate_dev_no_fallacy.json', 'r') as f:\n",
    "    data2 = json.load(f)\n",
    "\n",
    "data = data1['test'] + data2['test']\n",
    "random.shuffle(data)\n",
    "# 새로운 JSON 파일에 저장합니다.\n",
    "a = {'test': data}\n",
    "# 새로운 JSON 파일에 저장\n",
    "with open('./new_data/CLIMATE/climate_dev_with_no_fallacy.json', 'w') as f:\n",
    "    json.dump(a, f, indent=4)"
   ]
  },
  {
   "cell_type": "code",
   "execution_count": 8,
   "metadata": {},
   "outputs": [],
   "source": [
    "# 각 JSON 파일에서 데이터 읽어오기\n",
    "with open('./new_data/CLIMATE/climate_train_with_no_fallacy.json', 'r') as f1:\n",
    "    data1 = json.load(f1)\n",
    "with open('./new_data/CLIMATE/climate_dev_with_no_fallacy.json', 'r') as f2:\n",
    "    data2 = json.load(f2)\n",
    "with open('./new_data/CLIMATE/climate_test_with_no_fallacy.json', 'r') as f3:\n",
    "    data3 = json.load(f3)\n",
    "    \n",
    "data = data1['test'] + data2['test'] + data3['test']\n",
    "a = {'test':data}\n",
    "with open('./new_data/CLIMATE/climate_all_with_no_fallacy.json', 'w') as f:\n",
    "    json.dump(a, f, indent=4)"
   ]
  },
  {
   "cell_type": "code",
   "execution_count": 9,
   "metadata": {},
   "outputs": [],
   "source": [
    "import json\n",
    "\n",
    "# 각 JSON 파일에서 데이터 읽어오기\n",
    "with open('./new_data/COVID-19/covid_train.json', 'r') as f:\n",
    "    data1 = json.load(f)\n",
    "\n",
    "with open('./new_data/COVID-19/covid_train_no_fallacy.json', 'r') as f:\n",
    "    data2 = json.load(f)\n",
    "\n",
    "data = data1['test'] + data2['test']\n",
    "random.shuffle(data)\n",
    "# 새로운 JSON 파일에 저장합니다.\n",
    "a = {'test': data}\n",
    "# 새로운 JSON 파일에 저장\n",
    "with open('./new_data/COVID-19/covid_train_with_no_fallacy.json', 'w') as f:\n",
    "    json.dump(a, f, indent=4)\n",
    "    \n",
    "import json\n",
    "\n",
    "# 각 JSON 파일에서 데이터 읽어오기\n",
    "with open('./new_data/COVID-19/covid_dev.json', 'r') as f:\n",
    "    data1 = json.load(f)\n",
    "\n",
    "with open('./new_data/COVID-19/covid_dev_no_fallacy.json', 'r') as f:\n",
    "    data2 = json.load(f)\n",
    "\n",
    "data = data1['test'] + data2['test']\n",
    "random.shuffle(data)\n",
    "# 새로운 JSON 파일에 저장합니다.\n",
    "a = {'test': data}\n",
    "# 새로운 JSON 파일에 저장\n",
    "with open('./new_data/COVID-19/covid_dev_with_no_fallacy.json', 'w') as f:\n",
    "    json.dump(a, f, indent=4)"
   ]
  },
  {
   "cell_type": "code",
   "execution_count": 10,
   "metadata": {},
   "outputs": [],
   "source": [
    "# 각 JSON 파일에서 데이터 읽어오기\n",
    "with open('./new_data/COVID-19/covid_train_with_no_fallacy.json', 'r') as f1:\n",
    "    data1 = json.load(f1)\n",
    "with open('./new_data/COVID-19/covid_dev_with_no_fallacy.json', 'r') as f2:\n",
    "    data2 = json.load(f2)\n",
    "with open('./new_data/COVID-19/covid_test_with_no_fallacy.json', 'r') as f3:\n",
    "    data3 = json.load(f3)\n",
    "    \n",
    "data = data1['test'] + data2['test'] + data3['test']\n",
    "a = {'test':data}\n",
    "with open('./new_data/COVID-19/covid_all_with_no_fallacy.json', 'w') as f:\n",
    "    json.dump(a, f, indent=4)"
   ]
  },
  {
   "cell_type": "code",
   "execution_count": null,
   "metadata": {},
   "outputs": [],
   "source": []
  }
 ],
 "metadata": {
  "kernelspec": {
   "display_name": "cycle",
   "language": "python",
   "name": "cycle"
  },
  "language_info": {
   "codemirror_mode": {
    "name": "ipython",
    "version": 3
   },
   "file_extension": ".py",
   "mimetype": "text/x-python",
   "name": "python",
   "nbconvert_exporter": "python",
   "pygments_lexer": "ipython3",
   "version": "3.9.18"
  },
  "orig_nbformat": 4
 },
 "nbformat": 4,
 "nbformat_minor": 2
}
